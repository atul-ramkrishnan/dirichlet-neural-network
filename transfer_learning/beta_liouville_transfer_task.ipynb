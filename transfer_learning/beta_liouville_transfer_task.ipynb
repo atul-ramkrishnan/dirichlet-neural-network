{
 "cells": [
  {
   "cell_type": "markdown",
   "id": "0e80cefd-ae76-4e56-ab93-9e6901c2cef0",
   "metadata": {},
   "source": [
    "# 4.3 Cifar-100 Transfer Task (but with MNIST)"
   ]
  },
  {
   "cell_type": "code",
   "execution_count": 1,
   "id": "9b4c1378-efbf-47e5-accd-d072cfc9de5e",
   "metadata": {},
   "outputs": [],
   "source": [
    "import torch\n",
    "import torch.nn as nn\n",
    "import torch.nn.functional as F\n",
    "from torch.optim import Adam\n",
    "from torch.utils.data import DataLoader\n",
    "import torchvision"
   ]
  },
  {
   "cell_type": "code",
   "execution_count": 2,
   "id": "c475d8c2-8b76-4532-b579-6900a4796d96",
   "metadata": {},
   "outputs": [],
   "source": [
    "EPS = torch.finfo(torch.float64).eps\n",
    "# EPS = 1e-8"
   ]
  },
  {
   "cell_type": "code",
   "execution_count": 3,
   "id": "c0fd1cb7-86b8-4911-bbee-d9021fb90d8d",
   "metadata": {},
   "outputs": [],
   "source": [
    "def distillation_loss_beta_liouville(teacher_output_prob, student_output_alpha_i, student_output_alpha, student_output_beta, verbose=False):\n",
    "    \"\"\"\n",
    "        This is a basic version of the distillation loss.\n",
    "        This does not scale the output using a temperature or incorporate a mixture of teacher loss and target loss.\n",
    "        *** Negating the log-likelihood to follow the convention of minimizing the loss function. ***\n",
    "    \"\"\"\n",
    "    \n",
    "    teacher_output_prob = torch.clamp(teacher_output_prob, min=EPS)\n",
    "    student_output_alpha_i = torch.clamp(student_output_alpha_i, min=EPS)\n",
    "    student_output_alpha = torch.clamp(student_output_alpha, min=EPS)\n",
    "    student_output_beta = torch.clamp(student_output_beta, min=EPS)\n",
    "    teacher_output_prob_sum = torch.sum(teacher_output_prob, dim=1)\n",
    "    teacher_output_prob_sum = torch.clamp(teacher_output_prob_sum, max=1-EPS)\n",
    "    return -(torch.lgamma(torch.sum(student_output_alpha_i, dim=1)) + torch.lgamma(student_output_alpha + student_output_beta)\n",
    "            - torch.lgamma(student_output_alpha) - torch.lgamma(student_output_beta) + (student_output_alpha - torch.sum(student_output_alpha_i, dim=1)) * torch.log(torch.sum(teacher_output_prob, dim=1))\n",
    "            + (student_output_beta - 1) * torch.log(1 - teacher_output_prob_sum) + torch.sum((student_output_alpha_i - 1) * torch.log(teacher_output_prob), dim=1)\n",
    "            - torch.sum(torch.lgamma(student_output_alpha_i), dim=1)).mean()\n"
   ]
  },
  {
   "cell_type": "code",
   "execution_count": 4,
   "id": "1c9813b9-dd18-4c8a-82cb-111aff2bb911",
   "metadata": {},
   "outputs": [
    {
     "data": {
      "text/plain": [
       "tensor(-1.2441)"
      ]
     },
     "execution_count": 4,
     "metadata": {},
     "output_type": "execute_result"
    }
   ],
   "source": [
    "P = torch.tensor([[0.3, 0.3, 0.1]])\n",
    "\n",
    "alpha_d = torch.tensor([[2., 2., 3.]])\n",
    "\n",
    "alpha = torch.tensor([2.])\n",
    "\n",
    "beta = torch.tensor([2.])\n",
    "\n",
    "distillation_loss_beta_liouville(P, alpha_d, alpha, beta)"
   ]
  },
  {
   "cell_type": "code",
   "execution_count": 5,
   "id": "c51bde60-cd19-4ee1-a2eb-9a46509e2af0",
   "metadata": {},
   "outputs": [],
   "source": [
    "device = torch.device('cpu')"
   ]
  },
  {
   "cell_type": "code",
   "execution_count": 6,
   "id": "7ba4c3ad-f4c6-4eee-8d9b-466aea161b44",
   "metadata": {},
   "outputs": [],
   "source": [
    "BATCH_SIZE_TRAIN = 100\n",
    "BATCH_SIZE_VAL = 100\n",
    "BATCH_SIZE_TEST = 100"
   ]
  },
  {
   "cell_type": "code",
   "execution_count": 7,
   "id": "e69371c4-c441-4fca-90cd-ffa8f4e37207",
   "metadata": {},
   "outputs": [],
   "source": [
    "trainset = torchvision.datasets.MNIST('./', train=True, download=True,\n",
    "                             transform=torchvision.transforms.Compose([\n",
    "                               torchvision.transforms.ToTensor(),\n",
    "                               torchvision.transforms.Normalize(\n",
    "                                 (0.1307,), (0.3081,))\n",
    "                             ]))\n",
    "testset = torchvision.datasets.MNIST('./', train=False, download=True,\n",
    "                             transform=torchvision.transforms.Compose([\n",
    "                               torchvision.transforms.ToTensor(),\n",
    "                               torchvision.transforms.Normalize(\n",
    "                                 (0.1307,), (0.3081,))\n",
    "                             ]))"
   ]
  },
  {
   "cell_type": "code",
   "execution_count": 8,
   "id": "c38c2681-c778-4c82-bf26-694c91c17faa",
   "metadata": {},
   "outputs": [],
   "source": [
    "train_subset, val_subset = torch.utils.data.random_split(\n",
    "        trainset, [50000, 10000], generator=torch.Generator().manual_seed(1))"
   ]
  },
  {
   "cell_type": "code",
   "execution_count": 9,
   "id": "6ee27b62-6537-4e79-bd29-13e65a09fa78",
   "metadata": {},
   "outputs": [],
   "source": [
    "train_loader = DataLoader(dataset=train_subset, shuffle=False, batch_size=BATCH_SIZE_TRAIN)\n",
    "val_loader = DataLoader(dataset=val_subset, shuffle=False, batch_size=BATCH_SIZE_VAL)\n",
    "test_loader = DataLoader(dataset=testset, shuffle=False, batch_size=BATCH_SIZE_TEST)"
   ]
  },
  {
   "cell_type": "code",
   "execution_count": 10,
   "id": "82a7e410-e9a2-4c3c-ab4e-3e72eb7e2cae",
   "metadata": {},
   "outputs": [],
   "source": [
    "def evaluate(model, dataset, batch_size=100, max_ex=0):\n",
    "    model.eval()\n",
    "    acc = 0\n",
    "    N = len(dataset) * batch_size\n",
    "    for i, (features, labels) in enumerate(dataset):\n",
    "        features = features.view(batch_size, -1)\n",
    "        features = features.to(device)\n",
    "        features = features.double()\n",
    "        labels = labels.to(device)\n",
    "        scores = model(features)\n",
    "        # print(labels)\n",
    "        # print(scores)\n",
    "        pred = torch.argmax(scores, dim=1)\n",
    "        acc += torch.sum(torch.eq(pred, labels)).item()\n",
    "        if max_ex != 0 and i >= max_ex:\n",
    "            break\n",
    "    # print(i)\n",
    "    return (acc * 100 / ((i+1) * batch_size) )"
   ]
  },
  {
   "cell_type": "code",
   "execution_count": 11,
   "id": "fb026954-8821-4c74-b85b-672f0119aafd",
   "metadata": {},
   "outputs": [],
   "source": [
    "def evaluate_beta_liouville(model, dataset, batch_size=100, max_ex=0):\n",
    "    \"\"\"\n",
    "        output_alpha_i : (N, D)\n",
    "        output_alpha   : (N, 1)\n",
    "        output_beta    : (N, 1)\n",
    "    \"\"\"\n",
    "    model.eval()\n",
    "    acc = 0\n",
    "    N = len(dataset) * batch_size\n",
    "    for i, (features, labels) in enumerate(dataset):\n",
    "        features = features.view(batch_size, -1)\n",
    "        features = features.to(device)\n",
    "        features = features.double()\n",
    "        labels = labels.to(device)\n",
    "        output_alpha_i, output_alpha, output_beta = model(features)\n",
    "        output = output_alpha_i / torch.sum(output_alpha_i, dim=1, keepdim=True)\n",
    "        output *= output_alpha / (output_alpha + output_beta)   \n",
    "        torch.concat((output, 1 - torch.unsqueeze(torch.sum(output, dim=1), dim=1)), dim=1)\n",
    "        pred = torch.argmax(output, dim=1)\n",
    "        acc += torch.sum(torch.eq(pred, labels)).item()\n",
    "        if max_ex != 0 and i >= max_ex:\n",
    "            break\n",
    "    # print(i)\n",
    "    return (acc * 100 / ((i+1) * batch_size) )"
   ]
  },
  {
   "cell_type": "code",
   "execution_count": 12,
   "id": "e6bd7ae2-6204-43f0-9b3a-6eb659c260f7",
   "metadata": {},
   "outputs": [],
   "source": [
    "def mean_squared_error(teacher_output_prob, output_alpha_i, output_alpha, output_beta):\n",
    "    \"\"\"\n",
    "    teacher_output_prob: output of teacher model after applying softmax (N, d)\n",
    "    student_output_alpha_i: output of student model (alpha) (N, d)\n",
    "    student_output_alpha: output of student model (beta) (N, 1)\n",
    "    student_output_beta: output of student model (beta) (N, 1)\n",
    "    labels are of size d+1\n",
    "    \"\"\"\n",
    "    output = output_alpha_i / torch.sum(output_alpha_i, dim=1, keepdim=True)\n",
    "    output *= output_alpha / (output_alpha + output_beta)   \n",
    "    \n",
    "    return F.mse_loss(teacher_output_prob, output).item()"
   ]
  },
  {
   "cell_type": "code",
   "execution_count": 13,
   "id": "ce41afa7-84ec-4c00-8108-dd093f2ffd98",
   "metadata": {},
   "outputs": [],
   "source": [
    "class TeacherModel(nn.Module):\n",
    "    def __init__(self, dropout=0.5):\n",
    "        super(TeacherModel, self).__init__()\n",
    "        self.linear1 = nn.Linear(784, 400, dtype=torch.float64)\n",
    "        self.dropout = nn.Dropout(p=dropout)\n",
    "        self.linear2 = nn.Linear(400, 100, dtype=torch.float64)\n",
    "        self.dropout = nn.Dropout(p=dropout)\n",
    "        self.linear3 = nn.Linear(100, 10, dtype=torch.float64)\n",
    "\n",
    "    def forward(self, x):\n",
    "        x = F.relu(self.linear1(x))\n",
    "        x = self.dropout(x)\n",
    "        x = F.relu(self.linear2(x))\n",
    "        x = self.dropout(x)\n",
    "        x = self.linear3(x)\n",
    "        return x"
   ]
  },
  {
   "cell_type": "code",
   "execution_count": 14,
   "id": "ad78a9e5-9a47-4034-be5a-2fa6e53dd93b",
   "metadata": {},
   "outputs": [],
   "source": [
    "NUM_EPOCHS = 10\n",
    "lr = 0.001"
   ]
  },
  {
   "cell_type": "code",
   "execution_count": 15,
   "id": "bc8c4c80-110b-49a5-b6b3-39fb74cafb48",
   "metadata": {},
   "outputs": [],
   "source": [
    "teacher_model = TeacherModel()"
   ]
  },
  {
   "cell_type": "code",
   "execution_count": 16,
   "id": "f49dd59b-5915-4841-b720-af67c0b1fa3f",
   "metadata": {},
   "outputs": [],
   "source": [
    "criterion = nn.CrossEntropyLoss()\n",
    "optimizer = Adam(teacher_model.parameters(), lr=lr)"
   ]
  },
  {
   "cell_type": "code",
   "execution_count": 17,
   "id": "81aa65b2-d419-47a4-95a0-1dcc018dface",
   "metadata": {},
   "outputs": [
    {
     "name": "stdout",
     "output_type": "stream",
     "text": [
      "Loss: 2.3166536372104405\n",
      "Loss: 0.6096831454824725\n",
      "Loss: 0.2794842294434579\n",
      "Loss: 0.3598486027407903\n",
      "Loss: 0.23256641982973916\n",
      "Loss: 0.2474551808080626\n",
      "Loss: 0.26510286677265277\n",
      "Loss: 0.20394707081174768\n",
      "Loss: 0.2083503831977444\n",
      "Loss: 0.257821930062876\n",
      "Loss: 0.13670311741724295\n",
      "Loss: 0.14037771925195064\n",
      "Loss: 0.12013769575218064\n",
      "Loss: 0.24089642965531033\n",
      "Loss: 0.141830523427644\n",
      "Loss: 0.1423595666342025\n",
      "Loss: 0.17602033481884738\n",
      "Loss: 0.07475682925303895\n",
      "Loss: 0.2294210890483884\n",
      "Loss: 0.20855018842157072\n",
      "Loss: 0.14121689585184424\n",
      "Loss: 0.21926326944517435\n",
      "Loss: 0.1070157050545755\n",
      "Loss: 0.13027088615724092\n",
      "Loss: 0.16279880097316637\n",
      "Loss: 0.08233808401686264\n",
      "Loss: 0.09893154585331951\n",
      "Loss: 0.09998629630541542\n",
      "Loss: 0.07275472173066447\n",
      "Loss: 0.14144501940478652\n",
      "Loss: 0.12667445742054684\n",
      "Loss: 0.12189295337556347\n",
      "Loss: 0.04849306983834963\n",
      "Loss: 0.15693854422807696\n",
      "Loss: 0.1288591851243214\n",
      "Loss: 0.08829534126344674\n",
      "Loss: 0.15612173284394987\n",
      "Loss: 0.05003507554613689\n",
      "Loss: 0.11261784429642384\n",
      "Loss: 0.05960756126840958\n",
      "Loss: 0.11214303204780723\n",
      "Loss: 0.12131009542685471\n",
      "Loss: 0.11533461065987483\n",
      "Loss: 0.05489692715599816\n",
      "Loss: 0.05801284527572456\n"
     ]
    }
   ],
   "source": [
    "teacher_model.to(device)\n",
    "teacher_model.train()\n",
    "for epoch in range(1, NUM_EPOCHS):\n",
    "    for i, (data, target) in enumerate(train_loader):\n",
    "        data = data.view(BATCH_SIZE_TRAIN, -1)\n",
    "        data = data.to(device)\n",
    "        data = data.double()\n",
    "        target = target.to(device)\n",
    "        \n",
    "        output = teacher_model(data)\n",
    "        loss = criterion(output, target)\n",
    "        \n",
    "        optimizer.zero_grad()\n",
    "        loss.backward()\n",
    "        optimizer.step()\n",
    "        \n",
    "        if i % 100 == 0:\n",
    "            print(\"Loss:\", loss.item())"
   ]
  },
  {
   "cell_type": "code",
   "execution_count": 18,
   "id": "496006ac-b309-4437-9683-b3bfd6c414a8",
   "metadata": {},
   "outputs": [
    {
     "data": {
      "text/plain": [
       "98.63"
      ]
     },
     "execution_count": 18,
     "metadata": {},
     "output_type": "execute_result"
    }
   ],
   "source": [
    "evaluate(teacher_model, train_loader)"
   ]
  },
  {
   "cell_type": "code",
   "execution_count": 19,
   "id": "8eeca188-3636-441a-b139-aa6045771787",
   "metadata": {},
   "outputs": [
    {
     "data": {
      "text/plain": [
       "97.81"
      ]
     },
     "execution_count": 19,
     "metadata": {},
     "output_type": "execute_result"
    }
   ],
   "source": [
    "evaluate(teacher_model, test_loader)"
   ]
  },
  {
   "cell_type": "code",
   "execution_count": 20,
   "id": "15a4781b-54b1-4720-9f6c-07c0023ff219",
   "metadata": {},
   "outputs": [],
   "source": [
    "class StudentModel(nn.Module):\n",
    "    def __init__(self):\n",
    "        super(StudentModel, self).__init__()\n",
    "        self.linear1 = nn.Linear(784, 50, dtype=torch.float64)\n",
    "        self.linear2 = nn.Linear(50, 10, dtype=torch.float64)\n",
    "\n",
    "    def forward(self, x):\n",
    "        x = F.relu(self.linear1(x))\n",
    "        x = self.linear2(x)\n",
    "        return x"
   ]
  },
  {
   "cell_type": "code",
   "execution_count": 21,
   "id": "6d31d519-611e-4fa0-aee0-676c4b20bb97",
   "metadata": {},
   "outputs": [
    {
     "data": {
      "text/plain": [
       "StudentModel(\n",
       "  (linear1): Linear(in_features=784, out_features=50, bias=True)\n",
       "  (linear2): Linear(in_features=50, out_features=10, bias=True)\n",
       ")"
      ]
     },
     "execution_count": 21,
     "metadata": {},
     "output_type": "execute_result"
    }
   ],
   "source": [
    "student_model = StudentModel()\n",
    "student_model.to(device)"
   ]
  },
  {
   "cell_type": "code",
   "execution_count": 22,
   "id": "1ab7f6b4-faa0-407c-9f9b-8ddf1b8eaa60",
   "metadata": {},
   "outputs": [],
   "source": [
    "criterion = nn.CrossEntropyLoss()\n",
    "optimizer = Adam(student_model.parameters(), lr=lr)"
   ]
  },
  {
   "cell_type": "code",
   "execution_count": 23,
   "id": "db24054e-4470-460c-931d-519f7da57a28",
   "metadata": {},
   "outputs": [
    {
     "name": "stdout",
     "output_type": "stream",
     "text": [
      "Loss: 2.3334183619368853\n",
      "Loss: 0.3843412755930081\n",
      "Loss: 0.22942254939002354\n",
      "Loss: 0.2952095209913666\n",
      "Loss: 0.1964623295572778\n",
      "Loss: 0.2851572507584291\n",
      "Loss: 0.20263482257477122\n",
      "Loss: 0.12397038462742362\n",
      "Loss: 0.21246059051192503\n",
      "Loss: 0.13559758253005763\n",
      "Loss: 0.23261682621633292\n",
      "Loss: 0.14247202790361588\n",
      "Loss: 0.08625265980390091\n",
      "Loss: 0.1793765864365005\n",
      "Loss: 0.09336033104324734\n",
      "Loss: 0.19079324671582285\n",
      "Loss: 0.11654718262345724\n",
      "Loss: 0.06642726074608657\n",
      "Loss: 0.1580057123665614\n",
      "Loss: 0.06611914462633756\n",
      "Loss: 0.15769846118915365\n",
      "Loss: 0.1102585485431388\n",
      "Loss: 0.048222031133984676\n",
      "Loss: 0.13162942893612198\n",
      "Loss: 0.05111616437781475\n",
      "Loss: 0.1387509206425659\n",
      "Loss: 0.1073214775073215\n",
      "Loss: 0.03540645063175957\n",
      "Loss: 0.11192705310844085\n",
      "Loss: 0.043931814169010146\n",
      "Loss: 0.117218811226339\n",
      "Loss: 0.10298231925746376\n",
      "Loss: 0.028331323381798716\n",
      "Loss: 0.09268116019086586\n",
      "Loss: 0.031684248987343906\n",
      "Loss: 0.09299906258216174\n",
      "Loss: 0.09128393122569368\n",
      "Loss: 0.02327276877655826\n",
      "Loss: 0.08859980798180352\n",
      "Loss: 0.02271180649470027\n",
      "Loss: 0.07000150023388378\n",
      "Loss: 0.07846214089731295\n",
      "Loss: 0.01936397638425627\n",
      "Loss: 0.08313142747568669\n",
      "Loss: 0.018054180427707078\n"
     ]
    }
   ],
   "source": [
    "student_model.train()\n",
    "for epoch in range(1, NUM_EPOCHS):\n",
    "    for i, (data, target) in enumerate(train_loader):\n",
    "        data = data.view(BATCH_SIZE_TRAIN, -1)\n",
    "        data = data.to(device)\n",
    "        data = data.double()\n",
    "        target = target.to(device)\n",
    "        \n",
    "        output = student_model(data)\n",
    "        loss = criterion(output, target)\n",
    "        \n",
    "        optimizer.zero_grad()\n",
    "        loss.backward()\n",
    "        optimizer.step()\n",
    "        \n",
    "        if i % 100 == 0:\n",
    "            print(\"Loss:\", loss.item())"
   ]
  },
  {
   "cell_type": "code",
   "execution_count": 24,
   "id": "f271528e-cec0-4de6-842c-93ebc8ce3986",
   "metadata": {},
   "outputs": [
    {
     "data": {
      "text/plain": [
       "98.394"
      ]
     },
     "execution_count": 24,
     "metadata": {},
     "output_type": "execute_result"
    }
   ],
   "source": [
    "evaluate(student_model, train_loader)"
   ]
  },
  {
   "cell_type": "code",
   "execution_count": 25,
   "id": "cba85fe9-0efc-4698-b30f-9730e6a3b1e4",
   "metadata": {},
   "outputs": [
    {
     "data": {
      "text/plain": [
       "96.81"
      ]
     },
     "execution_count": 25,
     "metadata": {},
     "output_type": "execute_result"
    }
   ],
   "source": [
    "evaluate(student_model, test_loader)"
   ]
  },
  {
   "cell_type": "code",
   "execution_count": 26,
   "id": "676decde-16da-43c0-baaa-66a3563128a6",
   "metadata": {},
   "outputs": [],
   "source": [
    "def il(x):\n",
    "    return torch.where(x < 0, (1 / (1 - x)), x + 1) + EPS"
   ]
  },
  {
   "cell_type": "code",
   "execution_count": 27,
   "id": "24cc84ba-7f1a-41c9-84b8-f79eb92c2357",
   "metadata": {},
   "outputs": [],
   "source": [
    "class StudentModelBetaLiouville(nn.Module):\n",
    "    def __init__(self):\n",
    "        super(StudentModelBetaLiouville, self).__init__()\n",
    "        self.linear1 = nn.Linear(784, 50, dtype=torch.float64)\n",
    "        self.output_alpha_i = nn.Linear(50, 9, dtype=torch.float64)\n",
    "        self.output_alpha = nn.Linear(50, 1, dtype=torch.float64)\n",
    "        self.output_beta = nn.Linear(50, 1, dtype=torch.float64) \n",
    "\n",
    "    def forward(self, x):\n",
    "        x = F.relu(self.linear1(x))\n",
    "        output_alpha_i = il(self.output_alpha_i(x))\n",
    "        output_alpha = il(self.output_alpha(x))\n",
    "        output_beta = il(self.output_beta(x))\n",
    "        return output_alpha_i, output_alpha, output_beta"
   ]
  },
  {
   "cell_type": "code",
   "execution_count": 28,
   "id": "f71619b9-246c-4912-8be8-2fcabbbf985b",
   "metadata": {},
   "outputs": [],
   "source": [
    "student_model_distilled_beta_liouville = StudentModelBetaLiouville()\n",
    "student_model_distilled_beta_liouville.to(device)\n",
    "optimizer = Adam(student_model_distilled_beta_liouville.parameters(), lr=0.001)"
   ]
  },
  {
   "cell_type": "code",
   "execution_count": 29,
   "id": "f2608c14-3fd5-49f8-9685-e5c89353723c",
   "metadata": {},
   "outputs": [
    {
     "name": "stdout",
     "output_type": "stream",
     "text": [
      "Loss: -14.64621420965183\n",
      "MSE: 0.09200795108182831\n",
      "Loss: -133.65138811080232\n",
      "MSE: 0.08281800974795\n",
      "Loss: -134.71965126388503\n",
      "MSE: 0.05381885780249965\n",
      "Loss: -135.7686422031431\n",
      "MSE: 0.025876374316457115\n",
      "Loss: -136.1747335824253\n",
      "MSE: 0.020288284638487804\n",
      "Loss: -136.4463399402976\n",
      "MSE: 0.01703018694016209\n",
      "Loss: -136.59333410413174\n",
      "MSE: 0.015050421932914766\n",
      "Loss: -136.7562120804196\n",
      "MSE: 0.013528319383203199\n",
      "Loss: -136.88799376632855\n",
      "MSE: 0.012678205576272715\n"
     ]
    }
   ],
   "source": [
    "student_model_distilled_beta_liouville.train()\n",
    "teacher_model.eval()\n",
    "\n",
    "for epoch in range(1, NUM_EPOCHS):\n",
    "    for i, (data, target) in enumerate(train_loader):\n",
    "        data = data.view(BATCH_SIZE_TRAIN, -1)\n",
    "        data = data.to(device)\n",
    "        data = data.double()\n",
    "        target = target.to(device)\n",
    "        teacher_output = teacher_model(data)\n",
    "        teacher_output = F.softmax(teacher_output, dim=1)\n",
    "        teacher_output = teacher_output[:, :-1]\n",
    "        student_output_alpha_i, student_output_alpha, student_output_beta = student_model_distilled_beta_liouville(data)\n",
    "        \n",
    "        loss = distillation_loss_beta_liouville(teacher_output, student_output_alpha_i, student_output_alpha, student_output_beta, verbose=False)\n",
    "        if i == 0:\n",
    "            print(\"Loss:\", loss.item())\n",
    "            print(\"MSE:\", mean_squared_error(teacher_output, student_output_alpha_i, student_output_alpha, student_output_beta))\n",
    "        optimizer.zero_grad()\n",
    "        loss.backward()\n",
    "        optimizer.step()"
   ]
  },
  {
   "cell_type": "code",
   "execution_count": 30,
   "id": "8c1c032a-6944-43c6-83f7-24c1a6e43c21",
   "metadata": {},
   "outputs": [
    {
     "data": {
      "text/plain": [
       "84.88"
      ]
     },
     "execution_count": 30,
     "metadata": {},
     "output_type": "execute_result"
    }
   ],
   "source": [
    "evaluate_beta_liouville(student_model_distilled_beta_liouville, train_loader)"
   ]
  },
  {
   "cell_type": "code",
   "execution_count": 31,
   "id": "3d04e891-334a-4fab-9ffa-6555f05a2794",
   "metadata": {},
   "outputs": [
    {
     "data": {
      "text/plain": [
       "84.73"
      ]
     },
     "execution_count": 31,
     "metadata": {},
     "output_type": "execute_result"
    }
   ],
   "source": [
    "evaluate_beta_liouville(student_model_distilled_beta_liouville, test_loader)"
   ]
  }
 ],
 "metadata": {
  "kernelspec": {
   "display_name": "Python 3 (ipykernel)",
   "language": "python",
   "name": "python3"
  },
  "language_info": {
   "codemirror_mode": {
    "name": "ipython",
    "version": 3
   },
   "file_extension": ".py",
   "mimetype": "text/x-python",
   "name": "python",
   "nbconvert_exporter": "python",
   "pygments_lexer": "ipython3",
   "version": "3.9.13"
  }
 },
 "nbformat": 4,
 "nbformat_minor": 5
}
