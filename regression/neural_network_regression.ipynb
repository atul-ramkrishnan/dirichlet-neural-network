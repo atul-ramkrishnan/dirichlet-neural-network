{
 "cells": [
  {
   "cell_type": "code",
   "execution_count": 1,
   "id": "1ac77384-5b15-41d7-8874-7438d7763f64",
   "metadata": {},
   "outputs": [],
   "source": [
    "import numpy as np\n",
    "import torch\n",
    "from scipy.special import psi\n",
    "import math\n",
    "from scipy.stats import beta\n",
    "import matplotlib.pyplot as plt"
   ]
  },
  {
   "cell_type": "code",
   "execution_count": 2,
   "id": "e2e7fcf8-797d-411c-80ff-1449370954ad",
   "metadata": {},
   "outputs": [],
   "source": [
    "def el(x):\n",
    "    return torch.nn.functional.elu(x) + 1"
   ]
  },
  {
   "cell_type": "code",
   "execution_count": 3,
   "id": "bc7c8a7f-ea2c-4bdb-8102-8f460a81818a",
   "metadata": {},
   "outputs": [],
   "source": [
    "def criterion(z, alpha, beta):\n",
    "    return  (1 - alpha) * torch.log(z) + \\\n",
    "            (1 - beta) * torch.log(1 - z) - \\\n",
    "            torch.lgamma(alpha + beta) + \\\n",
    "            torch.lgamma(alpha) + \\\n",
    "            torch.lgamma(beta)"
   ]
  },
  {
   "cell_type": "code",
   "execution_count": 4,
   "id": "af4c8b30-fb3e-48d0-a1f6-f1a7b8b37181",
   "metadata": {},
   "outputs": [],
   "source": [
    "theta = torch.zeros(1, 2, requires_grad = True)"
   ]
  },
  {
   "cell_type": "code",
   "execution_count": 50,
   "id": "0aca23a5-121b-46aa-bc82-4e3bcd7a54b3",
   "metadata": {},
   "outputs": [
    {
     "name": "stdout",
     "output_type": "stream",
     "text": [
      "loss: -1.4970722198486328\n",
      "loss: -1.6652889251708984\n",
      "loss: -1.7647838592529297\n",
      "loss: -1.835723876953125\n",
      "loss: -1.890899658203125\n",
      "loss: -1.9360694885253906\n",
      "loss: -1.9743118286132812\n",
      "loss: -2.007465362548828\n",
      "loss: -2.0367279052734375\n",
      "loss: -2.0629196166992188\n"
     ]
    }
   ],
   "source": [
    "num_epochs = 1000\n",
    "for i in range(1, num_epochs + 1):\n",
    "    output = el(theta)\n",
    "    loss = criterion(torch.tensor(0.1), output[0][0], output[0][1])\n",
    "    if i % 100 == 0:\n",
    "        print(\"loss:\", loss.item())\n",
    "    loss.backward()\n",
    "    with torch.no_grad():\n",
    "        theta -= 1 * theta.grad\n",
    "        theta.grad = None"
   ]
  },
  {
   "cell_type": "code",
   "execution_count": 51,
   "id": "1b34632a-478c-4f5c-87ce-3b5482c4ae44",
   "metadata": {},
   "outputs": [
    {
     "data": {
      "text/plain": [
       "tensor([[ 2.9267, 30.0195]], requires_grad=True)"
      ]
     },
     "execution_count": 51,
     "metadata": {},
     "output_type": "execute_result"
    }
   ],
   "source": [
    "theta"
   ]
  },
  {
   "cell_type": "code",
   "execution_count": 58,
   "id": "598976ee-6797-487a-93d5-36eeba790ccb",
   "metadata": {},
   "outputs": [],
   "source": [
    "theta = torch.zeros(1, 2)"
   ]
  },
  {
   "cell_type": "code",
   "execution_count": 59,
   "id": "a4009ce9-8103-407f-9090-2ff7d70f8a48",
   "metadata": {},
   "outputs": [
    {
     "name": "stdout",
     "output_type": "stream",
     "text": [
      "tensor(2.3026)\n",
      "tensor(0.1054)\n",
      "tensor(2.2732)\n",
      "tensor(0.5054)\n",
      "tensor(2.0506)\n",
      "tensor(0.1871)\n",
      "tensor(1.9871)\n",
      "tensor(0.0951)\n",
      "tensor(1.9619)\n",
      "tensor(0.0537)\n",
      "tensor(1.9492)\n",
      "tensor(0.0316)\n",
      "tensor(1.9375)\n",
      "tensor(0.0190)\n",
      "tensor(1.7500)\n",
      "tensor(0.0116)\n",
      "tensor(2.)\n",
      "tensor(0.0071)\n",
      "tensor(nan)\n",
      "tensor(nan)\n"
     ]
    }
   ],
   "source": [
    "num_epochs = 10\n",
    "for i in range(1, num_epochs + 1):\n",
    "    output = el(theta)\n",
    "    loss = criterion(torch.tensor(0.1), output[0][0], output[0][1])\n",
    "    if i % 100 == 0:\n",
    "        print(\"loss:\", loss.item())\n",
    "    with torch.no_grad():\n",
    "        grad_alpha = -1 * (math.log(0.1) + output[0][1] * psi(output[0][0]*output[0][1]) - psi(output[0][0]))\n",
    "        grad_beta = -1 * (math.log(1 - 0.1) + output[0][0] * psi(output[0][0]*output[0][1]) - psi(output[0][1]))\n",
    "        print(grad_alpha)\n",
    "        print(grad_beta)\n",
    "        theta[0][0] -= 1 * grad_alpha\n",
    "        theta[0][1] -= 1 * grad_beta"
   ]
  },
  {
   "cell_type": "code",
   "execution_count": 56,
   "id": "c1fd7eb0-428f-4e9d-ab5c-af847fb4c31e",
   "metadata": {},
   "outputs": [],
   "source": [
    "a = el(theta[0][0]).detach().numpy()\n",
    "b = el(theta[0][1]).detach().numpy()"
   ]
  },
  {
   "cell_type": "code",
   "execution_count": 57,
   "id": "8ed5f9d8-064e-4b50-8a6b-2bb217a82cfd",
   "metadata": {},
   "outputs": [
    {
     "data": {
      "text/plain": [
       "[<matplotlib.lines.Line2D at 0x17cccd760>]"
      ]
     },
     "execution_count": 57,
     "metadata": {},
     "output_type": "execute_result"
    },
    {
     "data": {
      "image/png": "[encoded data removed]",
      "text/plain": [
       "<Figure size 432x288 with 1 Axes>"
      ]
     },
     "metadata": {
      "needs_background": "light"
     },
     "output_type": "display_data"
    }
   ],
   "source": [
    "x = np.linspace(beta.ppf(0.01, a, b),\n",
    "                beta.ppf(0.99, a, b), 100)\n",
    "\n",
    "plt.plot(x, beta.pdf(x, a, b),\n",
    "       'r-', lw=5, alpha=0.6, label='beta pdf')"
   ]
  }
 ],
 "metadata": {
  "kernelspec": {
   "display_name": "Python 3 (ipykernel)",
   "language": "python",
   "name": "python3"
  },
  "language_info": {
   "codemirror_mode": {
    "name": "ipython",
    "version": 3
   },
   "file_extension": ".py",
   "mimetype": "text/x-python",
   "name": "python",
   "nbconvert_exporter": "python",
   "pygments_lexer": "ipython3",
   "version": "3.9.12"
  }
 },
 "nbformat": 4,
 "nbformat_minor": 5
}
