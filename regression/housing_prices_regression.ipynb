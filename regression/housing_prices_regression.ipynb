{
 "cells": [
  {
   "cell_type": "code",
   "execution_count": 1,
   "id": "deb3acef-d2cd-4922-bb98-804138a55fd8",
   "metadata": {},
   "outputs": [],
   "source": [
    "from sklearn.datasets import load_boston\n",
    "import pandas as pd\n",
    "from sklearn.model_selection import train_test_split\n",
    "import numpy as np\n",
    "import torch\n",
    "import torch.nn as nn\n",
    "import torch.nn.functional as F\n",
    "import scipy.stats\n",
    "import matplotlib.pyplot as plt"
   ]
  },
  {
   "cell_type": "code",
   "execution_count": 2,
   "id": "55126d23-aa49-4b06-bf02-1b3e46c8ceed",
   "metadata": {},
   "outputs": [
    {
     "name": "stderr",
     "output_type": "stream",
     "text": [
      "/Users/atulramkrishnan/miniforge3/envs/pytorch_nightly/lib/python3.9/site-packages/sklearn/utils/deprecation.py:87: FutureWarning: Function load_boston is deprecated; `load_boston` is deprecated in 1.0 and will be removed in 1.2.\n",
      "\n",
      "    The Boston housing prices dataset has an ethical problem. You can refer to\n",
      "    the documentation of this function for further details.\n",
      "\n",
      "    The scikit-learn maintainers therefore strongly discourage the use of this\n",
      "    dataset unless the purpose of the code is to study and educate about\n",
      "    ethical issues in data science and machine learning.\n",
      "\n",
      "    In this special case, you can fetch the dataset from the original\n",
      "    source::\n",
      "\n",
      "        import pandas as pd\n",
      "        import numpy as np\n",
      "\n",
      "\n",
      "        data_url = \"http://lib.stat.cmu.edu/datasets/boston\"\n",
      "        raw_df = pd.read_csv(data_url, sep=\"\\s+\", skiprows=22, header=None)\n",
      "        data = np.hstack([raw_df.values[::2, :], raw_df.values[1::2, :2]])\n",
      "        target = raw_df.values[1::2, 2]\n",
      "\n",
      "    Alternative datasets include the California housing dataset (i.e.\n",
      "    :func:`~sklearn.datasets.fetch_california_housing`) and the Ames housing\n",
      "    dataset. You can load the datasets as follows::\n",
      "\n",
      "        from sklearn.datasets import fetch_california_housing\n",
      "        housing = fetch_california_housing()\n",
      "\n",
      "    for the California housing dataset and::\n",
      "\n",
      "        from sklearn.datasets import fetch_openml\n",
      "        housing = fetch_openml(name=\"house_prices\", as_frame=True)\n",
      "\n",
      "    for the Ames housing dataset.\n",
      "    \n",
      "  warnings.warn(msg, category=FutureWarning)\n"
     ]
    },
    {
     "data": {
      "text/plain": [
       "dict_keys(['data', 'target', 'feature_names', 'DESCR', 'filename', 'data_module'])"
      ]
     },
     "execution_count": 2,
     "metadata": {},
     "output_type": "execute_result"
    }
   ],
   "source": [
    "bos = load_boston()\n",
    "bos.keys()"
   ]
  },
  {
   "cell_type": "code",
   "execution_count": 3,
   "id": "29bc2844-01ac-4c7e-9868-3f8c2ceeb153",
   "metadata": {},
   "outputs": [
    {
     "data": {
      "text/html": [
       "<div>\n",
       "<style scoped>\n",
       "    .dataframe tbody tr th:only-of-type {\n",
       "        vertical-align: middle;\n",
       "    }\n",
       "\n",
       "    .dataframe tbody tr th {\n",
       "        vertical-align: top;\n",
       "    }\n",
       "\n",
       "    .dataframe thead th {\n",
       "        text-align: right;\n",
       "    }\n",
       "</style>\n",
       "<table border=\"1\" class=\"dataframe\">\n",
       "  <thead>\n",
       "    <tr style=\"text-align: right;\">\n",
       "      <th></th>\n",
       "      <th>CRIM</th>\n",
       "      <th>ZN</th>\n",
       "      <th>INDUS</th>\n",
       "      <th>CHAS</th>\n",
       "      <th>NOX</th>\n",
       "      <th>RM</th>\n",
       "      <th>AGE</th>\n",
       "      <th>DIS</th>\n",
       "      <th>RAD</th>\n",
       "      <th>TAX</th>\n",
       "      <th>PTRATIO</th>\n",
       "      <th>B</th>\n",
       "      <th>LSTAT</th>\n",
       "      <th>Price</th>\n",
       "    </tr>\n",
       "  </thead>\n",
       "  <tbody>\n",
       "    <tr>\n",
       "      <th>0</th>\n",
       "      <td>0.00632</td>\n",
       "      <td>18.0</td>\n",
       "      <td>2.31</td>\n",
       "      <td>0.0</td>\n",
       "      <td>0.538</td>\n",
       "      <td>6.575</td>\n",
       "      <td>65.2</td>\n",
       "      <td>4.0900</td>\n",
       "      <td>1.0</td>\n",
       "      <td>296.0</td>\n",
       "      <td>15.3</td>\n",
       "      <td>396.90</td>\n",
       "      <td>4.98</td>\n",
       "      <td>24.0</td>\n",
       "    </tr>\n",
       "    <tr>\n",
       "      <th>1</th>\n",
       "      <td>0.02731</td>\n",
       "      <td>0.0</td>\n",
       "      <td>7.07</td>\n",
       "      <td>0.0</td>\n",
       "      <td>0.469</td>\n",
       "      <td>6.421</td>\n",
       "      <td>78.9</td>\n",
       "      <td>4.9671</td>\n",
       "      <td>2.0</td>\n",
       "      <td>242.0</td>\n",
       "      <td>17.8</td>\n",
       "      <td>396.90</td>\n",
       "      <td>9.14</td>\n",
       "      <td>21.6</td>\n",
       "    </tr>\n",
       "    <tr>\n",
       "      <th>2</th>\n",
       "      <td>0.02729</td>\n",
       "      <td>0.0</td>\n",
       "      <td>7.07</td>\n",
       "      <td>0.0</td>\n",
       "      <td>0.469</td>\n",
       "      <td>7.185</td>\n",
       "      <td>61.1</td>\n",
       "      <td>4.9671</td>\n",
       "      <td>2.0</td>\n",
       "      <td>242.0</td>\n",
       "      <td>17.8</td>\n",
       "      <td>392.83</td>\n",
       "      <td>4.03</td>\n",
       "      <td>34.7</td>\n",
       "    </tr>\n",
       "    <tr>\n",
       "      <th>3</th>\n",
       "      <td>0.03237</td>\n",
       "      <td>0.0</td>\n",
       "      <td>2.18</td>\n",
       "      <td>0.0</td>\n",
       "      <td>0.458</td>\n",
       "      <td>6.998</td>\n",
       "      <td>45.8</td>\n",
       "      <td>6.0622</td>\n",
       "      <td>3.0</td>\n",
       "      <td>222.0</td>\n",
       "      <td>18.7</td>\n",
       "      <td>394.63</td>\n",
       "      <td>2.94</td>\n",
       "      <td>33.4</td>\n",
       "    </tr>\n",
       "    <tr>\n",
       "      <th>4</th>\n",
       "      <td>0.06905</td>\n",
       "      <td>0.0</td>\n",
       "      <td>2.18</td>\n",
       "      <td>0.0</td>\n",
       "      <td>0.458</td>\n",
       "      <td>7.147</td>\n",
       "      <td>54.2</td>\n",
       "      <td>6.0622</td>\n",
       "      <td>3.0</td>\n",
       "      <td>222.0</td>\n",
       "      <td>18.7</td>\n",
       "      <td>396.90</td>\n",
       "      <td>5.33</td>\n",
       "      <td>36.2</td>\n",
       "    </tr>\n",
       "  </tbody>\n",
       "</table>\n",
       "</div>"
      ],
      "text/plain": [
       "      CRIM    ZN  INDUS  CHAS    NOX     RM   AGE     DIS  RAD    TAX  \\\n",
       "0  0.00632  18.0   2.31   0.0  0.538  6.575  65.2  4.0900  1.0  296.0   \n",
       "1  0.02731   0.0   7.07   0.0  0.469  6.421  78.9  4.9671  2.0  242.0   \n",
       "2  0.02729   0.0   7.07   0.0  0.469  7.185  61.1  4.9671  2.0  242.0   \n",
       "3  0.03237   0.0   2.18   0.0  0.458  6.998  45.8  6.0622  3.0  222.0   \n",
       "4  0.06905   0.0   2.18   0.0  0.458  7.147  54.2  6.0622  3.0  222.0   \n",
       "\n",
       "   PTRATIO       B  LSTAT  Price  \n",
       "0     15.3  396.90   4.98   24.0  \n",
       "1     17.8  396.90   9.14   21.6  \n",
       "2     17.8  392.83   4.03   34.7  \n",
       "3     18.7  394.63   2.94   33.4  \n",
       "4     18.7  396.90   5.33   36.2  "
      ]
     },
     "execution_count": 3,
     "metadata": {},
     "output_type": "execute_result"
    }
   ],
   "source": [
    "df = pd.DataFrame(bos.data)\n",
    "df.columns = bos.feature_names\n",
    "df['Price'] = bos.target\n",
    "df.head()"
   ]
  },
  {
   "cell_type": "code",
   "execution_count": 4,
   "id": "0fe67b28-1bd1-41c9-9415-9426c4c75454",
   "metadata": {},
   "outputs": [],
   "source": [
    "data = df\n",
    "data = data.apply(\n",
    "    lambda x: (x - np.min(x)) / (np.max(x) - np.min(x))\n",
    ")"
   ]
  },
  {
   "cell_type": "code",
   "execution_count": 5,
   "id": "48e8ab04-36ae-4f40-a0ee-8620a67fc2c0",
   "metadata": {},
   "outputs": [],
   "source": [
    "# data = df[df.columns[:-1]]\n",
    "# data = data.apply(\n",
    "#     lambda x: (x - x.mean()) / x.std()\n",
    "# )\n",
    "\n",
    "# data['Price'] = df.Price"
   ]
  },
  {
   "cell_type": "code",
   "execution_count": 6,
   "id": "29492464-308a-4ff8-aa4b-d0c5a592d28e",
   "metadata": {},
   "outputs": [],
   "source": [
    "\n",
    "X = data.drop('Price', axis=1).to_numpy()\n",
    "Y = data['Price'].to_numpy()"
   ]
  },
  {
   "cell_type": "code",
   "execution_count": 7,
   "id": "25c892a8-ad5f-4eb2-8171-ee63596eb60c",
   "metadata": {},
   "outputs": [
    {
     "name": "stdout",
     "output_type": "stream",
     "text": [
      "(354, 13)\n",
      "(152, 13)\n",
      "(354,)\n",
      "(152,)\n"
     ]
    }
   ],
   "source": [
    "X_train, X_test, Y_train, Y_test = train_test_split(X, Y, test_size=0.3, random_state=42)\n",
    "print(X_train.shape)\n",
    "print(X_test.shape)\n",
    "print(Y_train.shape)\n",
    "print(Y_test.shape)"
   ]
  },
  {
   "cell_type": "code",
   "execution_count": 8,
   "id": "e8670276-1885-45e9-9102-890f71715bfd",
   "metadata": {},
   "outputs": [],
   "source": [
    "n_train = X_train.shape[0]\n",
    "X_train = torch.tensor(X_train, dtype=torch.float64)\n",
    "X_test = torch.tensor(X_test, dtype=torch.float64)\n",
    "Y_train = torch.tensor(Y_train, dtype=torch.float64).view(-1, 1)\n",
    "Y_test = torch.tensor(Y_test, dtype=torch.float64).view(-1, 1)"
   ]
  },
  {
   "cell_type": "code",
   "execution_count": 9,
   "id": "129f9f18-180b-477f-87fe-7619a6cee2ef",
   "metadata": {},
   "outputs": [],
   "source": [
    "class Model(nn.Module):\n",
    "    def __init__(self, n_inputs):\n",
    "        super(Model, self).__init__()\n",
    "        self.linear1 = nn.Linear(n_inputs, 5, dtype=torch.float64)\n",
    "        self.linear2 = nn.Linear(5, 1, dtype=torch.float64)\n",
    "\n",
    "    def forward(self, x):\n",
    "        x = F.relu(self.linear1(x))\n",
    "        x = self.linear2(x)\n",
    "        \n",
    "        return x"
   ]
  },
  {
   "cell_type": "code",
   "execution_count": 10,
   "id": "15dda601-dd96-4b61-9cae-25460061c060",
   "metadata": {},
   "outputs": [],
   "source": [
    "datasets = torch.utils.data.TensorDataset(X_train, Y_train)\n",
    "train_loader = torch.utils.data.DataLoader(datasets, batch_size=32, shuffle=False)"
   ]
  },
  {
   "cell_type": "code",
   "execution_count": 11,
   "id": "6fc69abb-dd46-4be3-bc28-a9e697ab5bf1",
   "metadata": {},
   "outputs": [],
   "source": [
    "criterion = torch.nn.MSELoss()"
   ]
  },
  {
   "cell_type": "code",
   "execution_count": 23,
   "id": "b982e8fc-b86e-402a-bcaf-5f6dfb405607",
   "metadata": {},
   "outputs": [],
   "source": [
    "model = Model(X_train.shape[1])"
   ]
  },
  {
   "cell_type": "code",
   "execution_count": 24,
   "id": "b1039a6e-e87a-4496-977a-28189243228e",
   "metadata": {},
   "outputs": [],
   "source": [
    "optimizer = torch.optim.Adam(model.parameters(), lr=0.001)"
   ]
  },
  {
   "cell_type": "code",
   "execution_count": 25,
   "id": "6efc091c-a768-4977-96b5-faa060597da2",
   "metadata": {},
   "outputs": [
    {
     "name": "stdout",
     "output_type": "stream",
     "text": [
      "epoch 1 loss: 0.0128\n",
      "epoch 2 loss: 0.0178\n",
      "epoch 3 loss: 0.0186\n",
      "epoch 4 loss: 0.0169\n",
      "epoch 5 loss: 0.0155\n",
      "epoch 6 loss: 0.0150\n",
      "epoch 7 loss: 0.0142\n",
      "epoch 8 loss: 0.0131\n",
      "epoch 9 loss: 0.0118\n",
      "epoch 10 loss: 0.0106\n",
      "epoch 11 loss: 0.0093\n",
      "epoch 12 loss: 0.0081\n",
      "epoch 13 loss: 0.0071\n",
      "epoch 14 loss: 0.0061\n",
      "epoch 15 loss: 0.0050\n",
      "epoch 16 loss: 0.0041\n",
      "epoch 17 loss: 0.0033\n",
      "epoch 18 loss: 0.0025\n",
      "epoch 19 loss: 0.0020\n",
      "epoch 20 loss: 0.0019\n",
      "epoch 21 loss: 0.0019\n",
      "epoch 22 loss: 0.0014\n",
      "epoch 23 loss: 0.0006\n",
      "epoch 24 loss: 0.0004\n",
      "epoch 25 loss: 0.0002\n",
      "epoch 26 loss: 0.0001\n",
      "epoch 27 loss: 0.0001\n",
      "epoch 28 loss: 0.0001\n",
      "epoch 29 loss: 0.0000\n",
      "epoch 30 loss: 0.0000\n",
      "epoch 31 loss: 0.0000\n",
      "epoch 32 loss: 0.0000\n",
      "epoch 33 loss: 0.0001\n",
      "epoch 34 loss: 0.0001\n",
      "epoch 35 loss: 0.0001\n",
      "epoch 36 loss: 0.0001\n",
      "epoch 37 loss: 0.0001\n",
      "epoch 38 loss: 0.0001\n",
      "epoch 39 loss: 0.0001\n",
      "epoch 40 loss: 0.0001\n",
      "epoch 41 loss: 0.0001\n",
      "epoch 42 loss: 0.0001\n",
      "epoch 43 loss: 0.0002\n",
      "epoch 44 loss: 0.0002\n",
      "epoch 45 loss: 0.0001\n",
      "epoch 46 loss: 0.0001\n",
      "epoch 47 loss: 0.0001\n",
      "epoch 48 loss: 0.0001\n",
      "epoch 49 loss: 0.0001\n",
      "epoch 50 loss: 0.0001\n",
      "epoch 51 loss: 0.0001\n",
      "epoch 52 loss: 0.0001\n",
      "epoch 53 loss: 0.0001\n",
      "epoch 54 loss: 0.0001\n",
      "epoch 55 loss: 0.0001\n",
      "epoch 56 loss: 0.0001\n",
      "epoch 57 loss: 0.0001\n",
      "epoch 58 loss: 0.0001\n",
      "epoch 59 loss: 0.0001\n",
      "epoch 60 loss: 0.0001\n",
      "epoch 61 loss: 0.0001\n",
      "epoch 62 loss: 0.0001\n",
      "epoch 63 loss: 0.0001\n",
      "epoch 64 loss: 0.0001\n",
      "epoch 65 loss: 0.0001\n",
      "epoch 66 loss: 0.0001\n",
      "epoch 67 loss: 0.0001\n",
      "epoch 68 loss: 0.0001\n",
      "epoch 69 loss: 0.0001\n",
      "epoch 70 loss: 0.0001\n"
     ]
    }
   ],
   "source": [
    "num_epochs = 70\n",
    "for epoch in range(num_epochs):\n",
    "    for x, y in train_loader:\n",
    "        output = model(x)\n",
    "        # print(y, output)\n",
    "        loss = criterion(output, y)\n",
    "        \n",
    "        optimizer.zero_grad()\n",
    "        loss.backward()\n",
    "        optimizer.step()\n",
    "    print(\"epoch {} loss: {:.4f}\".format(epoch + 1, loss.item()))"
   ]
  },
  {
   "cell_type": "code",
   "execution_count": 39,
   "id": "b2d5025e-b9bd-45f7-80b1-81bf8b6f3f11",
   "metadata": {},
   "outputs": [
    {
     "name": "stdout",
     "output_type": "stream",
     "text": [
      "pred:0.5173925007029796 target:0.4133333333333334\n",
      "NLL Loss:  0.010828310313664043\n",
      "MSE Loss:  0.010828310313664043\n"
     ]
    }
   ],
   "source": [
    "example_id = 0\n",
    "\n",
    "pred = model(X_test[example_id])\n",
    "target = Y_test[example_id]\n",
    "\n",
    "print(f\"pred:{pred.item()} target:{target.item()}\")\n",
    "print(\"NLL Loss: \", criterion(pred, target).item())\n",
    "print(\"MSE Loss: \", F.mse_loss(pred, target).item())"
   ]
  },
  {
   "cell_type": "code",
   "execution_count": 27,
   "id": "1dcc0fdb-42be-4a77-96ee-58f941057a85",
   "metadata": {},
   "outputs": [],
   "source": [
    "def el(x):\n",
    "    return torch.nn.functional.elu(x) + 1"
   ]
  },
  {
   "cell_type": "code",
   "execution_count": 28,
   "id": "1bd9eb23-26ee-4619-878b-b4bb19722e2c",
   "metadata": {},
   "outputs": [],
   "source": [
    "def mean_squared_error(alpha, beta, target):\n",
    "    # print(alpha.shape, beta.shape, target.shape)\n",
    "    output = alpha / (alpha + beta)\n",
    "    return F.mse_loss(output, target).item()"
   ]
  },
  {
   "cell_type": "code",
   "execution_count": 29,
   "id": "e09382e7-6f9d-41e1-9926-eb1302a0028b",
   "metadata": {},
   "outputs": [],
   "source": [
    "class ModelBeta(nn.Module):\n",
    "    def __init__(self, n_inputs):\n",
    "        super(ModelBeta, self).__init__()\n",
    "        self.linear1 = nn.Linear(n_inputs, 5, dtype=torch.float64)\n",
    "        self.linear2 = nn.Linear(5, 2, dtype=torch.float64)\n",
    "\n",
    "    def forward(self, x):\n",
    "        x = F.relu(self.linear1(x))\n",
    "        x = el(self.linear2(x))\n",
    "        \n",
    "        return x[:, 0], x[:, 1]"
   ]
  },
  {
   "cell_type": "code",
   "execution_count": 30,
   "id": "99ae8adb-73fd-44cb-9eb5-ae5a12a7426b",
   "metadata": {},
   "outputs": [],
   "source": [
    "EPS = torch.finfo(torch.float64).eps"
   ]
  },
  {
   "cell_type": "code",
   "execution_count": 31,
   "id": "8b0d402e-6d5c-45a7-884f-1f418053a4d6",
   "metadata": {},
   "outputs": [],
   "source": [
    "def criterion_beta(z, alpha, beta):\n",
    "    z = torch.clamp(z, min=EPS, max=1-EPS)\n",
    "    return  -((alpha - 1) * torch.log(z) + \\\n",
    "            (beta - 1) * torch.log(1 - z) + \\\n",
    "            torch.lgamma(alpha + beta) - \\\n",
    "            torch.lgamma(alpha) - \\\n",
    "            torch.lgamma(beta)).mean()"
   ]
  },
  {
   "cell_type": "code",
   "execution_count": 32,
   "id": "6cd44033-43dc-4b0e-aac8-a4f8a29ad871",
   "metadata": {},
   "outputs": [],
   "source": [
    "model_beta = ModelBeta(X_train.shape[1])"
   ]
  },
  {
   "cell_type": "code",
   "execution_count": 33,
   "id": "fa9ef335-e7cb-4d36-ac70-9731e59a55d8",
   "metadata": {},
   "outputs": [],
   "source": [
    "optimizer = torch.optim.SGD(model_beta.parameters(), lr=0.01)"
   ]
  },
  {
   "cell_type": "code",
   "execution_count": 34,
   "id": "94222b8b-075d-4d03-9f71-bcce0901af90",
   "metadata": {},
   "outputs": [
    {
     "name": "stdout",
     "output_type": "stream",
     "text": [
      "epoch 1 loss: -0.1666\n",
      "MSE: 0.040318007958882185\n",
      "epoch 2 loss: -0.0938\n",
      "MSE: 0.045566105648728844\n",
      "epoch 3 loss: -0.0480\n",
      "MSE: 0.05082712038282298\n",
      "epoch 4 loss: -0.0264\n",
      "MSE: 0.05461265406005078\n",
      "epoch 5 loss: -0.0198\n",
      "MSE: 0.057074195038766595\n",
      "epoch 6 loss: -0.0214\n",
      "MSE: 0.05858493126150566\n",
      "epoch 7 loss: -0.0273\n",
      "MSE: 0.05945279980210311\n",
      "epoch 8 loss: -0.0345\n",
      "MSE: 0.059891232126836655\n",
      "epoch 9 loss: -0.0471\n",
      "MSE: 0.06001050415673397\n",
      "epoch 10 loss: -0.0624\n",
      "MSE: 0.05992143650689502\n",
      "epoch 11 loss: -0.0757\n",
      "MSE: 0.05971420191165736\n",
      "epoch 12 loss: -0.0882\n",
      "MSE: 0.059437775322190495\n",
      "epoch 13 loss: -0.0983\n",
      "MSE: 0.059136611231830984\n",
      "epoch 14 loss: -0.1070\n",
      "MSE: 0.058810638743190126\n",
      "epoch 15 loss: -0.1148\n",
      "MSE: 0.05845730871714229\n",
      "epoch 16 loss: -0.1218\n",
      "MSE: 0.05808105372208468\n",
      "epoch 17 loss: -0.1281\n",
      "MSE: 0.0576534464032725\n",
      "epoch 18 loss: -0.1340\n",
      "MSE: 0.057200491126334144\n",
      "epoch 19 loss: -0.1396\n",
      "MSE: 0.05672397807321341\n",
      "epoch 20 loss: -0.1450\n",
      "MSE: 0.056218302695264774\n",
      "epoch 21 loss: -0.1503\n",
      "MSE: 0.055684921875638754\n",
      "epoch 22 loss: -0.1555\n",
      "MSE: 0.05512412953973262\n",
      "epoch 23 loss: -0.1606\n",
      "MSE: 0.0545381034161249\n",
      "epoch 24 loss: -0.1653\n",
      "MSE: 0.0540051805174961\n",
      "epoch 25 loss: -0.1701\n",
      "MSE: 0.0534211752340576\n",
      "epoch 26 loss: -0.1751\n",
      "MSE: 0.05280279188398236\n",
      "epoch 27 loss: -0.1803\n",
      "MSE: 0.052143639363733396\n",
      "epoch 28 loss: -0.1857\n",
      "MSE: 0.05144813822108449\n",
      "epoch 29 loss: -0.1912\n",
      "MSE: 0.050719400279860626\n",
      "epoch 30 loss: -0.1964\n",
      "MSE: 0.050031841496621376\n",
      "epoch 31 loss: -0.2017\n",
      "MSE: 0.049328015896315885\n",
      "epoch 32 loss: -0.2070\n",
      "MSE: 0.04861945884649414\n",
      "epoch 33 loss: -0.2121\n",
      "MSE: 0.04793772094889224\n",
      "epoch 34 loss: -0.2173\n",
      "MSE: 0.04724980905340857\n",
      "epoch 35 loss: -0.2225\n",
      "MSE: 0.04655579833706175\n",
      "epoch 36 loss: -0.2280\n",
      "MSE: 0.045812943943992795\n",
      "epoch 37 loss: -0.2337\n",
      "MSE: 0.0450401352471595\n",
      "epoch 38 loss: -0.2397\n",
      "MSE: 0.044246374710153316\n",
      "epoch 39 loss: -0.2443\n",
      "MSE: 0.04372342853637177\n",
      "epoch 40 loss: -0.2496\n",
      "MSE: 0.04311124464281013\n",
      "epoch 41 loss: -0.2527\n",
      "MSE: 0.0427726102176331\n",
      "epoch 42 loss: -0.2571\n",
      "MSE: 0.042268305609598565\n",
      "epoch 43 loss: -0.2624\n",
      "MSE: 0.04165050938652734\n",
      "epoch 44 loss: -0.2671\n",
      "MSE: 0.04114799546918365\n",
      "epoch 45 loss: -0.2723\n",
      "MSE: 0.04057622821882148\n",
      "epoch 46 loss: -0.2782\n",
      "MSE: 0.03992607972684187\n",
      "epoch 47 loss: -0.2844\n",
      "MSE: 0.03923860532285677\n",
      "epoch 48 loss: -0.2892\n",
      "MSE: 0.03872611161870795\n",
      "epoch 49 loss: -0.2946\n",
      "MSE: 0.03814487552611083\n",
      "epoch 50 loss: -0.3005\n",
      "MSE: 0.03751277362390549\n",
      "epoch 51 loss: -0.3064\n",
      "MSE: 0.03687375468969486\n",
      "epoch 52 loss: -0.3124\n",
      "MSE: 0.036238180057896766\n",
      "epoch 53 loss: -0.3159\n",
      "MSE: 0.03591116349536484\n",
      "epoch 54 loss: -0.3225\n",
      "MSE: 0.03523464502485258\n",
      "epoch 55 loss: -0.3266\n",
      "MSE: 0.03486304784280123\n",
      "epoch 56 loss: -0.3329\n",
      "MSE: 0.034237762814212855\n",
      "epoch 57 loss: -0.3376\n",
      "MSE: 0.03383612410333192\n",
      "epoch 58 loss: -0.3437\n",
      "MSE: 0.03320445476440883\n",
      "epoch 59 loss: -0.3484\n",
      "MSE: 0.03284751114858634\n",
      "epoch 60 loss: -0.3534\n",
      "MSE: 0.032438653027878184\n",
      "epoch 61 loss: -0.3616\n",
      "MSE: 0.03142490959622888\n",
      "epoch 62 loss: -0.3647\n",
      "MSE: 0.031327910661292695\n",
      "epoch 63 loss: -0.3693\n",
      "MSE: 0.030991182695583423\n",
      "epoch 64 loss: -0.3719\n",
      "MSE: 0.030831897314649335\n",
      "epoch 65 loss: -0.3749\n",
      "MSE: 0.030588096388799398\n",
      "epoch 66 loss: -0.3783\n",
      "MSE: 0.030282603843269244\n",
      "epoch 67 loss: -0.3818\n",
      "MSE: 0.029960485472687953\n",
      "epoch 68 loss: -0.3847\n",
      "MSE: 0.029729042489546206\n",
      "epoch 69 loss: -0.3901\n",
      "MSE: 0.02910128812281961\n",
      "epoch 70 loss: -0.3920\n",
      "MSE: 0.029046614138084948\n",
      "epoch 71 loss: -0.3949\n",
      "MSE: 0.028858808368486467\n",
      "epoch 72 loss: -0.3981\n",
      "MSE: 0.028623058660741107\n",
      "epoch 73 loss: -0.4016\n",
      "MSE: 0.02835104307468401\n",
      "epoch 74 loss: -0.4049\n",
      "MSE: 0.028117646354801316\n",
      "epoch 75 loss: -0.4082\n",
      "MSE: 0.027895577429548766\n",
      "epoch 76 loss: -0.4116\n",
      "MSE: 0.027651984297660546\n",
      "epoch 77 loss: -0.4150\n",
      "MSE: 0.027419738220223918\n",
      "epoch 78 loss: -0.4184\n",
      "MSE: 0.02719094066145121\n",
      "epoch 79 loss: -0.4218\n",
      "MSE: 0.02695087308874638\n",
      "epoch 80 loss: -0.4254\n",
      "MSE: 0.026698844735987104\n",
      "epoch 81 loss: -0.4291\n",
      "MSE: 0.02643514085489395\n",
      "epoch 82 loss: -0.4326\n",
      "MSE: 0.02619481881326611\n",
      "epoch 83 loss: -0.4384\n",
      "MSE: 0.02560332026576708\n",
      "epoch 84 loss: -0.4400\n",
      "MSE: 0.025667031681665644\n",
      "epoch 85 loss: -0.4432\n",
      "MSE: 0.025487281527686652\n",
      "epoch 86 loss: -0.4469\n",
      "MSE: 0.025259915145004308\n",
      "epoch 87 loss: -0.4528\n",
      "MSE: 0.024682967177043956\n",
      "epoch 88 loss: -0.4548\n",
      "MSE: 0.024706462932077594\n",
      "epoch 89 loss: -0.4580\n",
      "MSE: 0.024559460403138136\n",
      "epoch 90 loss: -0.4618\n",
      "MSE: 0.02435576524903699\n",
      "epoch 91 loss: -0.4676\n",
      "MSE: 0.02382984038580148\n",
      "epoch 92 loss: -0.4696\n",
      "MSE: 0.023897785003785737\n",
      "epoch 93 loss: -0.4730\n",
      "MSE: 0.023777931534439165\n",
      "epoch 94 loss: -0.4770\n",
      "MSE: 0.023589198750400928\n",
      "epoch 95 loss: -0.4829\n",
      "MSE: 0.02309089923628264\n",
      "epoch 96 loss: -0.4856\n",
      "MSE: 0.023099412253075394\n",
      "epoch 97 loss: -0.4894\n",
      "MSE: 0.022953603353156576\n",
      "epoch 98 loss: -0.4936\n",
      "MSE: 0.022767404409457757\n",
      "epoch 99 loss: -0.4997\n",
      "MSE: 0.02228249353693728\n",
      "epoch 100 loss: -0.5026\n",
      "MSE: 0.02212851033391249\n"
     ]
    }
   ],
   "source": [
    "num_epochs = 100\n",
    "for epoch in range(num_epochs):\n",
    "    for i, (x, y) in enumerate(train_loader):\n",
    "        y = torch.squeeze(y)\n",
    "        # print(y.shape)\n",
    "        alpha, beta = model_beta(x)\n",
    "        # print(y, alpha, beta)\n",
    "        loss = criterion_beta(y, alpha, beta)\n",
    "        \n",
    "        optimizer.zero_grad()\n",
    "        loss.backward()\n",
    "        optimizer.step()\n",
    "        if i == 0:\n",
    "            print(\"epoch {} loss: {:.4f}\".format(epoch + 1, loss.item()))\n",
    "            print(\"MSE:\", mean_squared_error(alpha, beta, y))"
   ]
  },
  {
   "cell_type": "code",
   "execution_count": 37,
   "id": "1ad7478e-5126-4cfe-a344-b6717627d98e",
   "metadata": {},
   "outputs": [
    {
     "name": "stdout",
     "output_type": "stream",
     "text": [
      "alpha: 0.9989341538834511 | beta: 0.6422511912861625\n",
      "Target: 0.4133333333333334 | Predicted(using mean):  0.6086662647966876\n",
      "NLL Loss: 0.2518352532216729\n",
      "MSE Loss: 0.03815495411406744\n"
     ]
    }
   ],
   "source": [
    "example_id = 0\n",
    "test_data = X_test[example_id]\n",
    "test_target = Y_test[example_id]\n",
    "a, b = model_beta(test_data.unsqueeze(0))\n",
    "\n",
    "print(\"alpha:\", a.item(), \"| beta:\", b.item())\n",
    "print(\"Target:\", test_target.item(), \"| Predicted(using mean): \", (a / (a+b)).item())\n",
    "print(\"NLL Loss:\", criterion_beta(test_target,a , b).item())\n",
    "print(\"MSE Loss:\", mean_squared_error(a, b, test_target))"
   ]
  },
  {
   "cell_type": "code",
   "execution_count": 38,
   "id": "04772b6e-a9e1-4492-aa07-01f93fc55d6b",
   "metadata": {},
   "outputs": [
    {
     "name": "stderr",
     "output_type": "stream",
     "text": [
      "/Users/atulramkrishnan/miniforge3/envs/pytorch_nightly/lib/python3.9/site-packages/scipy/stats/_continuous_distns.py:624: RuntimeWarning: overflow encountered in _beta_ppf\n",
      "  return _boost._beta_ppf(q, a, b)\n"
     ]
    },
    {
     "data": {
      "text/plain": [
       "[<matplotlib.lines.Line2D at 0x12f6a2430>]"
      ]
     },
     "execution_count": 38,
     "metadata": {},
     "output_type": "execute_result"
    },
    {
     "data": {
      "image/png": "[encoded data removed]",
      "text/plain": [
       "<Figure size 432x288 with 1 Axes>"
      ]
     },
     "metadata": {
      "needs_background": "light"
     },
     "output_type": "display_data"
    }
   ],
   "source": [
    "a = a.detach().numpy()\n",
    "b = b.detach().numpy()\n",
    "x = np.linspace(scipy.stats.beta.ppf(0.01, a, b),\n",
    "                scipy.stats.beta.ppf(0.99, a, b), 100)\n",
    "\n",
    "plt.plot(x, scipy.stats.beta.pdf(x, a, b),\n",
    "       'r-', lw=5, alpha=0.6, label='beta pdf')"
   ]
  },
  {
   "cell_type": "code",
   "execution_count": null,
   "id": "3169b9de-1b28-41c3-89a8-b43dd0421dbf",
   "metadata": {},
   "outputs": [],
   "source": []
  }
 ],
 "metadata": {
  "kernelspec": {
   "display_name": "Python 3 (ipykernel)",
   "language": "python",
   "name": "python3"
  },
  "language_info": {
   "codemirror_mode": {
    "name": "ipython",
    "version": 3
   },
   "file_extension": ".py",
   "mimetype": "text/x-python",
   "name": "python",
   "nbconvert_exporter": "python",
   "pygments_lexer": "ipython3",
   "version": "3.9.12"
  }
 },
 "nbformat": 4,
 "nbformat_minor": 5
}
