{
 "cells": [
  {
   "cell_type": "code",
   "execution_count": 36,
   "id": "2e537bef-3f29-49e1-b643-7f6453143128",
   "metadata": {},
   "outputs": [],
   "source": [
    "from sklearn.datasets import load_boston\n",
    "import pandas as pd\n",
    "from sklearn.model_selection import train_test_split\n",
    "import numpy as np\n",
    "import torch\n",
    "import torch.nn as nn\n",
    "import torch.nn.functional as F\n",
    "import scipy.stats\n",
    "import matplotlib.pyplot as plt"
   ]
  },
  {
   "cell_type": "code",
   "execution_count": 144,
   "id": "56af0aac-6dcc-46c6-beb6-333540bdb672",
   "metadata": {},
   "outputs": [],
   "source": [
    "from torchviz import make_dot"
   ]
  },
  {
   "cell_type": "code",
   "execution_count": 128,
   "id": "4e07593f-7ec1-4a00-be5f-8688e0b5e726",
   "metadata": {},
   "outputs": [],
   "source": [
    "df = pd.read_csv('airfoilselfnoise.csv')"
   ]
  },
  {
   "cell_type": "code",
   "execution_count": 129,
   "id": "a3f0ae0e-1c9a-49fa-bce8-3e7b3aa3ba65",
   "metadata": {},
   "outputs": [
    {
     "data": {
      "text/html": [
       "<div>\n",
       "<style scoped>\n",
       "    .dataframe tbody tr th:only-of-type {\n",
       "        vertical-align: middle;\n",
       "    }\n",
       "\n",
       "    .dataframe tbody tr th {\n",
       "        vertical-align: top;\n",
       "    }\n",
       "\n",
       "    .dataframe thead th {\n",
       "        text-align: right;\n",
       "    }\n",
       "</style>\n",
       "<table border=\"1\" class=\"dataframe\">\n",
       "  <thead>\n",
       "    <tr style=\"text-align: right;\">\n",
       "      <th></th>\n",
       "      <th>f</th>\n",
       "      <th>alpha</th>\n",
       "      <th>c</th>\n",
       "      <th>U_infinity</th>\n",
       "      <th>delta</th>\n",
       "      <th>SSPL</th>\n",
       "    </tr>\n",
       "  </thead>\n",
       "  <tbody>\n",
       "    <tr>\n",
       "      <th>0</th>\n",
       "      <td>800</td>\n",
       "      <td>0.0</td>\n",
       "      <td>0.3048</td>\n",
       "      <td>71.3</td>\n",
       "      <td>0.002663</td>\n",
       "      <td>126.201</td>\n",
       "    </tr>\n",
       "    <tr>\n",
       "      <th>1</th>\n",
       "      <td>1000</td>\n",
       "      <td>0.0</td>\n",
       "      <td>0.3048</td>\n",
       "      <td>71.3</td>\n",
       "      <td>0.002663</td>\n",
       "      <td>125.201</td>\n",
       "    </tr>\n",
       "    <tr>\n",
       "      <th>2</th>\n",
       "      <td>1250</td>\n",
       "      <td>0.0</td>\n",
       "      <td>0.3048</td>\n",
       "      <td>71.3</td>\n",
       "      <td>0.002663</td>\n",
       "      <td>125.951</td>\n",
       "    </tr>\n",
       "    <tr>\n",
       "      <th>3</th>\n",
       "      <td>1600</td>\n",
       "      <td>0.0</td>\n",
       "      <td>0.3048</td>\n",
       "      <td>71.3</td>\n",
       "      <td>0.002663</td>\n",
       "      <td>127.591</td>\n",
       "    </tr>\n",
       "    <tr>\n",
       "      <th>4</th>\n",
       "      <td>2000</td>\n",
       "      <td>0.0</td>\n",
       "      <td>0.3048</td>\n",
       "      <td>71.3</td>\n",
       "      <td>0.002663</td>\n",
       "      <td>127.461</td>\n",
       "    </tr>\n",
       "  </tbody>\n",
       "</table>\n",
       "</div>"
      ],
      "text/plain": [
       "      f  alpha       c  U_infinity     delta     SSPL\n",
       "0   800    0.0  0.3048        71.3  0.002663  126.201\n",
       "1  1000    0.0  0.3048        71.3  0.002663  125.201\n",
       "2  1250    0.0  0.3048        71.3  0.002663  125.951\n",
       "3  1600    0.0  0.3048        71.3  0.002663  127.591\n",
       "4  2000    0.0  0.3048        71.3  0.002663  127.461"
      ]
     },
     "execution_count": 129,
     "metadata": {},
     "output_type": "execute_result"
    }
   ],
   "source": [
    "df.head()"
   ]
  },
  {
   "cell_type": "code",
   "execution_count": 130,
   "id": "6b588f8c-80f0-42c1-a240-95e2256d0c7d",
   "metadata": {},
   "outputs": [],
   "source": [
    "data = df\n",
    "data = data.apply(\n",
    "    lambda x: (x - np.min(x)) / (np.max(x) - np.min(x))\n",
    ")"
   ]
  },
  {
   "cell_type": "code",
   "execution_count": 131,
   "id": "d3b0dd9e-827d-4ab1-a207-205f16c85d09",
   "metadata": {},
   "outputs": [],
   "source": [
    "X = data.drop('SSPL', axis=1).to_numpy()\n",
    "Y = data['SSPL'].to_numpy()"
   ]
  },
  {
   "cell_type": "code",
   "execution_count": 132,
   "id": "7b8a2b0e-0cf8-42f5-9b62-1bf264dd4d41",
   "metadata": {},
   "outputs": [
    {
     "name": "stdout",
     "output_type": "stream",
     "text": [
      "(1052, 5)\n",
      "(451, 5)\n",
      "(1052,)\n",
      "(451,)\n"
     ]
    }
   ],
   "source": [
    "X_train, X_test, Y_train, Y_test = train_test_split(X, Y, test_size=0.3, random_state=42)\n",
    "print(X_train.shape)\n",
    "print(X_test.shape)\n",
    "print(Y_train.shape)\n",
    "print(Y_test.shape)"
   ]
  },
  {
   "cell_type": "code",
   "execution_count": 133,
   "id": "ffe81cf1-0357-4c9f-9873-e2e12c13ade9",
   "metadata": {},
   "outputs": [],
   "source": [
    "n_train = X_train.shape[0]\n",
    "X_train = torch.tensor(X_train, dtype=torch.float64)\n",
    "X_test = torch.tensor(X_test, dtype=torch.float64)\n",
    "Y_train = torch.tensor(Y_train, dtype=torch.float64).view(-1, 1)\n",
    "Y_test = torch.tensor(Y_test, dtype=torch.float64).view(-1, 1)"
   ]
  },
  {
   "cell_type": "code",
   "execution_count": 134,
   "id": "9e2f1599-fa38-4d77-bc7c-685c069ca4d4",
   "metadata": {},
   "outputs": [],
   "source": [
    "datasets = torch.utils.data.TensorDataset(X_train, Y_train)\n",
    "train_loader = torch.utils.data.DataLoader(datasets, batch_size=32, shuffle=False)"
   ]
  },
  {
   "cell_type": "code",
   "execution_count": 135,
   "id": "977bbbae-3d17-43df-af41-8b77e6167f92",
   "metadata": {},
   "outputs": [],
   "source": [
    "dataset_test = torch.utils.data.TensorDataset(X_test, Y_test)\n",
    "test_loader = torch.utils.data.DataLoader(dataset_test, batch_size=32, shuffle=False)"
   ]
  },
  {
   "cell_type": "code",
   "execution_count": 136,
   "id": "8ecdf436-257c-4b51-a841-ca7007a83b71",
   "metadata": {},
   "outputs": [],
   "source": [
    "class Model(nn.Module):\n",
    "    def __init__(self, n_inputs):\n",
    "        super(Model, self).__init__()\n",
    "        self.linear1 = nn.Linear(n_inputs, 5, dtype=torch.float64)\n",
    "        self.linear2 = nn.Linear(5, 1, dtype=torch.float64)\n",
    "\n",
    "    def forward(self, x):\n",
    "        x = F.relu(self.linear1(x))\n",
    "        x = self.linear2(x)\n",
    "        \n",
    "        return x"
   ]
  },
  {
   "cell_type": "code",
   "execution_count": 137,
   "id": "a9609057-6e99-4ab2-90a0-98b0e48fb47c",
   "metadata": {},
   "outputs": [],
   "source": [
    "def validate_traditional_model(model):\n",
    "    loss = 0.0\n",
    "    for i, (data, target) in enumerate(test_loader):\n",
    "        output = model(data)\n",
    "        loss += F.mse_loss(output, target)\n",
    "    return loss.item() / len(test_loader.dataset)"
   ]
  },
  {
   "cell_type": "code",
   "execution_count": 138,
   "id": "33753f72-ff56-424c-bded-572eac5baeba",
   "metadata": {},
   "outputs": [],
   "source": [
    "def validate_beta_model(model):\n",
    "    loss = 0.0\n",
    "    for i, (data, target) in enumerate(test_loader):\n",
    "        target = torch.squeeze(target)\n",
    "        alpha, beta = model(data)\n",
    "        output = alpha / (alpha + beta)\n",
    "        loss += F.mse_loss(output, target)\n",
    "    return loss.item() / len(test_loader.dataset)"
   ]
  },
  {
   "cell_type": "code",
   "execution_count": 139,
   "id": "683707f4-71e3-44cb-b00f-8e33c024f9cd",
   "metadata": {},
   "outputs": [],
   "source": [
    "criterion = torch.nn.MSELoss()"
   ]
  },
  {
   "cell_type": "code",
   "execution_count": 140,
   "id": "33895e72-db8c-40de-9892-85ef9ae05f7a",
   "metadata": {},
   "outputs": [],
   "source": [
    "model = Model(X_train.shape[1])"
   ]
  },
  {
   "cell_type": "code",
   "execution_count": 141,
   "id": "d4330a8d-3267-4785-8066-762327beb6e7",
   "metadata": {},
   "outputs": [],
   "source": [
    "optimizer = torch.optim.Adam(model.parameters(), lr=0.001)"
   ]
  },
  {
   "cell_type": "code",
   "execution_count": 142,
   "id": "3e7d469e-9c39-4b94-9f30-31bdd356d28c",
   "metadata": {},
   "outputs": [
    {
     "name": "stdout",
     "output_type": "stream",
     "text": [
      "epoch 1 loss: 1.1758\n",
      "MSE:  1.175752347530212\n",
      "epoch 2 loss: 0.8684\n",
      "MSE:  0.8684487273869166\n",
      "epoch 3 loss: 0.6493\n",
      "MSE:  0.6493307624701239\n",
      "epoch 4 loss: 0.4855\n",
      "MSE:  0.48550674708085273\n",
      "epoch 5 loss: 0.3604\n",
      "MSE:  0.36038170624086097\n",
      "epoch 6 loss: 0.2659\n",
      "MSE:  0.26589316191439766\n",
      "epoch 7 loss: 0.1960\n",
      "MSE:  0.19604598565087136\n",
      "epoch 8 loss: 0.1465\n",
      "MSE:  0.1465340961702083\n",
      "epoch 9 loss: 0.1133\n",
      "MSE:  0.1132960581199\n",
      "epoch 10 loss: 0.0921\n",
      "MSE:  0.09211644233188773\n",
      "epoch 11 loss: 0.0794\n",
      "MSE:  0.07942647167757443\n",
      "epoch 12 loss: 0.0721\n",
      "MSE:  0.07213206440780792\n",
      "epoch 13 loss: 0.0679\n",
      "MSE:  0.06793978380688726\n",
      "epoch 14 loss: 0.0654\n",
      "MSE:  0.06535823772929503\n",
      "epoch 15 loss: 0.0635\n",
      "MSE:  0.06352149148959677\n",
      "epoch 16 loss: 0.0620\n",
      "MSE:  0.061982424073319144\n",
      "epoch 17 loss: 0.0605\n",
      "MSE:  0.0605304201963552\n",
      "epoch 18 loss: 0.0591\n",
      "MSE:  0.05909382948418461\n",
      "epoch 19 loss: 0.0577\n",
      "MSE:  0.05765002713889001\n",
      "epoch 20 loss: 0.0562\n",
      "MSE:  0.056198086099051935\n",
      "epoch 21 loss: 0.0547\n",
      "MSE:  0.05474437332070352\n",
      "epoch 22 loss: 0.0533\n",
      "MSE:  0.053293776577922\n",
      "epoch 23 loss: 0.0518\n",
      "MSE:  0.05184850718118625\n",
      "epoch 24 loss: 0.0504\n",
      "MSE:  0.05041206931974155\n",
      "epoch 25 loss: 0.0490\n",
      "MSE:  0.048984555190552434\n",
      "epoch 26 loss: 0.0476\n",
      "MSE:  0.04757868630197585\n",
      "epoch 27 loss: 0.0462\n",
      "MSE:  0.04619229943206299\n",
      "epoch 28 loss: 0.0448\n",
      "MSE:  0.044825069806701964\n",
      "epoch 29 loss: 0.0432\n",
      "MSE:  0.043204616176666336\n",
      "epoch 30 loss: 0.0372\n",
      "MSE:  0.037194074408225614\n",
      "epoch 31 loss: 0.0311\n",
      "MSE:  0.03108779751492114\n",
      "epoch 32 loss: 0.0258\n",
      "MSE:  0.02578804086690143\n",
      "epoch 33 loss: 0.0213\n",
      "MSE:  0.021255732655616283\n",
      "epoch 34 loss: 0.0179\n",
      "MSE:  0.01785465646779622\n",
      "epoch 35 loss: 0.0153\n",
      "MSE:  0.015317368376852172\n",
      "epoch 36 loss: 0.0134\n",
      "MSE:  0.013382072986915327\n",
      "epoch 37 loss: 0.0119\n",
      "MSE:  0.011889002002530048\n",
      "epoch 38 loss: 0.0108\n",
      "MSE:  0.010751911906696648\n",
      "epoch 39 loss: 0.0099\n",
      "MSE:  0.009891273168102016\n",
      "epoch 40 loss: 0.0092\n",
      "MSE:  0.009241958932779418\n",
      "epoch 41 loss: 0.0088\n",
      "MSE:  0.008757894786553835\n",
      "epoch 42 loss: 0.0084\n",
      "MSE:  0.008427081258353192\n",
      "epoch 43 loss: 0.0082\n",
      "MSE:  0.008187258272068242\n",
      "epoch 44 loss: 0.0080\n",
      "MSE:  0.008011907992977818\n",
      "epoch 45 loss: 0.0079\n",
      "MSE:  0.007888687276673443\n",
      "epoch 46 loss: 0.0078\n",
      "MSE:  0.007818296871442356\n",
      "epoch 47 loss: 0.0078\n",
      "MSE:  0.007761649151095386\n",
      "epoch 48 loss: 0.0077\n",
      "MSE:  0.007732666233207272\n",
      "epoch 49 loss: 0.0077\n",
      "MSE:  0.0077086670362519925\n",
      "epoch 50 loss: 0.0077\n",
      "MSE:  0.007701239645345747\n",
      "epoch 51 loss: 0.0077\n",
      "MSE:  0.007709607499787186\n",
      "epoch 52 loss: 0.0077\n",
      "MSE:  0.007716073273737203\n",
      "epoch 53 loss: 0.0077\n",
      "MSE:  0.00772785926134708\n",
      "epoch 54 loss: 0.0077\n",
      "MSE:  0.007737449622174758\n",
      "epoch 55 loss: 0.0077\n",
      "MSE:  0.007743459543612843\n",
      "epoch 56 loss: 0.0077\n",
      "MSE:  0.0077491183478520485\n",
      "epoch 57 loss: 0.0078\n",
      "MSE:  0.007753014433083998\n",
      "epoch 58 loss: 0.0078\n",
      "MSE:  0.007767753324125803\n",
      "epoch 59 loss: 0.0078\n",
      "MSE:  0.007786130673607186\n",
      "epoch 60 loss: 0.0078\n",
      "MSE:  0.007800461791229533\n",
      "epoch 61 loss: 0.0078\n",
      "MSE:  0.0078157026118029\n",
      "epoch 62 loss: 0.0078\n",
      "MSE:  0.00783057614831753\n",
      "epoch 63 loss: 0.0078\n",
      "MSE:  0.007845905620789793\n",
      "epoch 64 loss: 0.0079\n",
      "MSE:  0.007861435957607674\n",
      "epoch 65 loss: 0.0079\n",
      "MSE:  0.00787797996142746\n",
      "epoch 66 loss: 0.0079\n",
      "MSE:  0.007891624297072443\n",
      "epoch 67 loss: 0.0079\n",
      "MSE:  0.007902186958546907\n",
      "epoch 68 loss: 0.0079\n",
      "MSE:  0.007912606312868185\n",
      "epoch 69 loss: 0.0079\n",
      "MSE:  0.007921860208401486\n",
      "epoch 70 loss: 0.0079\n",
      "MSE:  0.007930928499257826\n",
      "epoch 71 loss: 0.0079\n",
      "MSE:  0.007939609996240767\n",
      "epoch 72 loss: 0.0079\n",
      "MSE:  0.007947989379785471\n",
      "epoch 73 loss: 0.0080\n",
      "MSE:  0.007955965055009662\n",
      "epoch 74 loss: 0.0080\n",
      "MSE:  0.007963303757791146\n",
      "epoch 75 loss: 0.0080\n",
      "MSE:  0.007972109435169334\n",
      "epoch 76 loss: 0.0080\n",
      "MSE:  0.00798010758624084\n",
      "epoch 77 loss: 0.0080\n",
      "MSE:  0.00798766589027306\n",
      "epoch 78 loss: 0.0080\n",
      "MSE:  0.007996225450663611\n",
      "epoch 79 loss: 0.0080\n",
      "MSE:  0.008009079587338845\n",
      "epoch 80 loss: 0.0080\n",
      "MSE:  0.008018332404692474\n",
      "epoch 81 loss: 0.0080\n",
      "MSE:  0.0080259764774086\n",
      "epoch 82 loss: 0.0080\n",
      "MSE:  0.0080334381151995\n",
      "epoch 83 loss: 0.0080\n",
      "MSE:  0.008043794586692715\n",
      "epoch 84 loss: 0.0080\n",
      "MSE:  0.008049506956404492\n",
      "epoch 85 loss: 0.0081\n",
      "MSE:  0.008054175459379762\n",
      "epoch 86 loss: 0.0081\n",
      "MSE:  0.008059534298453483\n",
      "epoch 87 loss: 0.0081\n",
      "MSE:  0.008064419595296756\n",
      "epoch 88 loss: 0.0081\n",
      "MSE:  0.008068595530446886\n",
      "epoch 89 loss: 0.0081\n",
      "MSE:  0.008072377727917222\n",
      "epoch 90 loss: 0.0081\n",
      "MSE:  0.008075471711715358\n",
      "epoch 91 loss: 0.0081\n",
      "MSE:  0.008078057179424896\n",
      "epoch 92 loss: 0.0081\n",
      "MSE:  0.00808042355834188\n",
      "epoch 93 loss: 0.0081\n",
      "MSE:  0.008082402406822361\n",
      "epoch 94 loss: 0.0081\n",
      "MSE:  0.008084076224242396\n",
      "epoch 95 loss: 0.0081\n",
      "MSE:  0.008085477069400908\n",
      "epoch 96 loss: 0.0081\n",
      "MSE:  0.008086735429860834\n",
      "epoch 97 loss: 0.0081\n",
      "MSE:  0.008087682855707806\n",
      "epoch 98 loss: 0.0081\n",
      "MSE:  0.00808845785679876\n",
      "epoch 99 loss: 0.0081\n",
      "MSE:  0.008089874157940833\n",
      "epoch 100 loss: 0.0081\n",
      "MSE:  0.008091832813791373\n"
     ]
    }
   ],
   "source": [
    "model_nll_loss = []\n",
    "model_mse_loss = []\n",
    "model_mse_val_loss = []\n",
    "\n",
    "num_epochs = 100\n",
    "for epoch in range(num_epochs):\n",
    "    for i, (x, y) in enumerate(train_loader):\n",
    "        output = model(x)\n",
    "        # print(y, output)\n",
    "        loss = criterion(output, y)\n",
    "        writer.add_scalar(\"Loss/train\", loss, epoch)\n",
    "        optimizer.zero_grad()\n",
    "        loss.backward()\n",
    "        optimizer.step()\n",
    "        if i == 0:\n",
    "            model_nll_loss.append(loss.item())\n",
    "            model_mse_loss.append(F.mse_loss(output, y).item())\n",
    "            print(\"epoch {} loss: {:.4f}\".format(epoch + 1, loss.item()))\n",
    "            print(\"MSE: \", F.mse_loss(output, y).item())\n",
    "            model_mse_val_loss.append(validate_traditional_model(model))\n",
    "            \n",
    "writer.flush()"
   ]
  },
  {
   "cell_type": "code",
   "execution_count": 147,
   "id": "5fbacbf2-6607-4a69-9bbc-a4eb09085960",
   "metadata": {},
   "outputs": [
    {
     "name": "stdout",
     "output_type": "stream",
     "text": [
      "pred:0.5478847317826436 target:0.5760895577950915\n",
      "NLL Loss:  0.0007955122103924573\n",
      "MSE Loss:  0.0007955122103924573\n"
     ]
    }
   ],
   "source": [
    "example_id = 0\n",
    "\n",
    "pred = model(X_test[example_id])\n",
    "target = Y_test[example_id]\n",
    "\n",
    "print(f\"pred:{pred.item()} target:{target.item()}\")\n",
    "print(\"NLL Loss: \", criterion(pred, target).item())\n",
    "print(\"MSE Loss: \", F.mse_loss(pred, target).item())\n"
   ]
  },
  {
   "cell_type": "code",
   "execution_count": 148,
   "id": "56734bb5-b825-42e5-a20d-5a99082bba32",
   "metadata": {},
   "outputs": [
    {
     "name": "stdout",
     "output_type": "stream",
     "text": [
      "Model(\n",
      "  (linear1): Linear(in_features=5, out_features=5, bias=True)\n",
      "  (linear2): Linear(in_features=5, out_features=1, bias=True)\n",
      ")\n"
     ]
    }
   ],
   "source": [
    "print(model)"
   ]
  },
  {
   "cell_type": "code",
   "execution_count": 107,
   "id": "2049038c-4072-45e3-be7f-5d04c38bb337",
   "metadata": {},
   "outputs": [],
   "source": [
    "def el(x):\n",
    "    return torch.nn.functional.elu(x) + 1"
   ]
  },
  {
   "cell_type": "code",
   "execution_count": 108,
   "id": "5a950eb6-870a-4983-b52c-aeea22812354",
   "metadata": {},
   "outputs": [],
   "source": [
    "def mean_squared_error(alpha, beta, target):\n",
    "    # print(alpha.shape, beta.shape, target.shape)\n",
    "    output = alpha / (alpha + beta)\n",
    "    return F.mse_loss(output, target).item()"
   ]
  },
  {
   "cell_type": "code",
   "execution_count": 109,
   "id": "27d0409f-0094-4bbd-8cc8-e55729c151ae",
   "metadata": {},
   "outputs": [],
   "source": [
    "class ModelBeta(nn.Module):\n",
    "    def __init__(self, n_inputs):\n",
    "        super(ModelBeta, self).__init__()\n",
    "        self.linear1 = nn.Linear(n_inputs, 5, dtype=torch.float64)\n",
    "        self.linear2 = nn.Linear(5, 2, dtype=torch.float64)\n",
    "\n",
    "    def forward(self, x):\n",
    "        x = F.relu(self.linear1(x))\n",
    "        x = el(self.linear2(x))\n",
    "        \n",
    "        return x[:, 0], x[:, 1]"
   ]
  },
  {
   "cell_type": "code",
   "execution_count": 110,
   "id": "65ee00c7-2815-471f-88b8-fcb7888644c5",
   "metadata": {},
   "outputs": [],
   "source": [
    "EPS = torch.finfo(torch.float64).eps"
   ]
  },
  {
   "cell_type": "code",
   "execution_count": 111,
   "id": "409da09b-8b71-440f-8709-c2c87dadda23",
   "metadata": {},
   "outputs": [],
   "source": [
    "def criterion_beta(z, alpha, beta):\n",
    "    z = torch.clamp(z, min=EPS, max=1-EPS)\n",
    "    return  -((alpha - 1) * torch.log(z) + \\\n",
    "            (beta - 1) * torch.log(1 - z) + \\\n",
    "            torch.lgamma(alpha + beta) - \\\n",
    "            torch.lgamma(alpha) - \\\n",
    "            torch.lgamma(beta)).mean()"
   ]
  },
  {
   "cell_type": "code",
   "execution_count": 112,
   "id": "a7524518-a67b-4d36-b6a6-da2a63433ba9",
   "metadata": {},
   "outputs": [],
   "source": [
    "model_beta = ModelBeta(X_train.shape[1])"
   ]
  },
  {
   "cell_type": "code",
   "execution_count": 113,
   "id": "ff73ec07-f273-4f35-9b75-06bf60813bba",
   "metadata": {},
   "outputs": [],
   "source": [
    "optimizer = torch.optim.Adam(model_beta.parameters(), lr=0.001)"
   ]
  },
  {
   "cell_type": "code",
   "execution_count": 114,
   "id": "fc34a0dc-02d0-45c8-91f6-596709871b02",
   "metadata": {},
   "outputs": [
    {
     "name": "stdout",
     "output_type": "stream",
     "text": [
      "epoch 1 loss: 0.2465\n",
      "MSE: 0.07102926061428612\n",
      "epoch 2 loss: 0.1638\n",
      "MSE: 0.05962392523570816\n",
      "epoch 3 loss: 0.0914\n",
      "MSE: 0.04946418681584365\n",
      "epoch 4 loss: 0.0267\n",
      "MSE: 0.040746050722496915\n",
      "epoch 5 loss: -0.0128\n",
      "MSE: 0.03631421759356997\n",
      "epoch 6 loss: -0.0377\n",
      "MSE: 0.034394082419035986\n",
      "epoch 7 loss: -0.0564\n",
      "MSE: 0.0335046307483364\n",
      "epoch 8 loss: -0.0725\n",
      "MSE: 0.03292922614978992\n",
      "epoch 9 loss: -0.0873\n",
      "MSE: 0.032464868453534315\n",
      "epoch 10 loss: -0.1011\n",
      "MSE: 0.03205997156577349\n",
      "epoch 11 loss: -0.1139\n",
      "MSE: 0.031697357332950295\n",
      "epoch 12 loss: -0.1259\n",
      "MSE: 0.03136735076799436\n",
      "epoch 13 loss: -0.1371\n",
      "MSE: 0.031063349649406113\n",
      "epoch 14 loss: -0.1477\n",
      "MSE: 0.030779989848780994\n",
      "epoch 15 loss: -0.1576\n",
      "MSE: 0.030512045920012706\n",
      "epoch 16 loss: -0.1670\n",
      "MSE: 0.030256521748704177\n",
      "epoch 17 loss: -0.1758\n",
      "MSE: 0.03001019662681292\n",
      "epoch 18 loss: -0.1842\n",
      "MSE: 0.029770206731123613\n",
      "epoch 19 loss: -0.1921\n",
      "MSE: 0.029534217999825765\n",
      "epoch 20 loss: -0.1996\n",
      "MSE: 0.029300117822751902\n",
      "epoch 21 loss: -0.2068\n",
      "MSE: 0.029066041120541012\n",
      "epoch 22 loss: -0.2137\n",
      "MSE: 0.02883006409390179\n",
      "epoch 23 loss: -0.2203\n",
      "MSE: 0.02858998294425652\n",
      "epoch 24 loss: -0.2267\n",
      "MSE: 0.028344045907190567\n",
      "epoch 25 loss: -0.2328\n",
      "MSE: 0.028092357132021756\n",
      "epoch 26 loss: -0.2388\n",
      "MSE: 0.027833526507137912\n",
      "epoch 27 loss: -0.2446\n",
      "MSE: 0.027566072540122263\n",
      "epoch 28 loss: -0.2503\n",
      "MSE: 0.027288462219491494\n",
      "epoch 29 loss: -0.2558\n",
      "MSE: 0.026998424804128656\n",
      "epoch 30 loss: -0.2613\n",
      "MSE: 0.02669500790064206\n",
      "epoch 31 loss: -0.2667\n",
      "MSE: 0.026373302240165077\n",
      "epoch 32 loss: -0.2723\n",
      "MSE: 0.02601974110416303\n",
      "epoch 33 loss: -0.2779\n",
      "MSE: 0.02564312440497103\n",
      "epoch 34 loss: -0.2836\n",
      "MSE: 0.025239959782625793\n",
      "epoch 35 loss: -0.2893\n",
      "MSE: 0.024817216075083786\n",
      "epoch 36 loss: -0.2950\n",
      "MSE: 0.02438898611052029\n",
      "epoch 37 loss: -0.3007\n",
      "MSE: 0.02394394191179348\n",
      "epoch 38 loss: -0.3063\n",
      "MSE: 0.02367836526234325\n",
      "epoch 39 loss: -0.3121\n",
      "MSE: 0.02337586984796302\n",
      "epoch 40 loss: -0.3181\n",
      "MSE: 0.023032464377471078\n",
      "epoch 41 loss: -0.3246\n",
      "MSE: 0.022435620388270554\n",
      "epoch 42 loss: -0.3308\n",
      "MSE: 0.022090389404567035\n",
      "epoch 43 loss: -0.3370\n",
      "MSE: 0.021729399048890014\n",
      "epoch 44 loss: -0.3434\n",
      "MSE: 0.021338707449067223\n",
      "epoch 45 loss: -0.3500\n",
      "MSE: 0.020932040027639556\n",
      "epoch 46 loss: -0.3566\n",
      "MSE: 0.020518669638175238\n",
      "epoch 47 loss: -0.3635\n",
      "MSE: 0.019842590301072986\n",
      "epoch 48 loss: -0.3700\n",
      "MSE: 0.01948210604660396\n",
      "epoch 49 loss: -0.3767\n",
      "MSE: 0.0191063270359302\n",
      "epoch 50 loss: -0.3835\n",
      "MSE: 0.0187157310732207\n",
      "epoch 51 loss: -0.3903\n",
      "MSE: 0.018322104415990345\n",
      "epoch 52 loss: -0.3972\n",
      "MSE: 0.017934402306720408\n",
      "epoch 53 loss: -0.4040\n",
      "MSE: 0.017549869650870954\n",
      "epoch 54 loss: -0.4109\n",
      "MSE: 0.017173339135118038\n",
      "epoch 55 loss: -0.4176\n",
      "MSE: 0.016569934636854834\n",
      "epoch 56 loss: -0.4244\n",
      "MSE: 0.01627511877644623\n",
      "epoch 57 loss: -0.4314\n",
      "MSE: 0.01594771650646137\n",
      "epoch 58 loss: -0.4383\n",
      "MSE: 0.015600294186561336\n",
      "epoch 59 loss: -0.4453\n",
      "MSE: 0.015250544435701672\n",
      "epoch 60 loss: -0.4522\n",
      "MSE: 0.0149127752731147\n",
      "epoch 61 loss: -0.4591\n",
      "MSE: 0.014583370189500454\n",
      "epoch 62 loss: -0.4659\n",
      "MSE: 0.014253521182829357\n",
      "epoch 63 loss: -0.4728\n",
      "MSE: 0.013925523172226189\n",
      "epoch 64 loss: -0.4794\n",
      "MSE: 0.013392226879957541\n",
      "epoch 65 loss: -0.4862\n",
      "MSE: 0.013143190805733961\n",
      "epoch 66 loss: -0.4930\n",
      "MSE: 0.012868448595295432\n",
      "epoch 67 loss: -0.4997\n",
      "MSE: 0.01258245280303708\n",
      "epoch 68 loss: -0.5063\n",
      "MSE: 0.012305814317981332\n",
      "epoch 69 loss: -0.5128\n",
      "MSE: 0.012041211961278213\n",
      "epoch 70 loss: -0.5192\n",
      "MSE: 0.011785309064740325\n",
      "epoch 71 loss: -0.5254\n",
      "MSE: 0.011541144302075791\n",
      "epoch 72 loss: -0.5316\n",
      "MSE: 0.011308465234163378\n",
      "epoch 73 loss: -0.5376\n",
      "MSE: 0.011086778312113962\n",
      "epoch 74 loss: -0.5430\n",
      "MSE: 0.010712048615661716\n",
      "epoch 75 loss: -0.5489\n",
      "MSE: 0.010575523354762957\n",
      "epoch 76 loss: -0.5547\n",
      "MSE: 0.010406957513756662\n",
      "epoch 77 loss: -0.5603\n",
      "MSE: 0.01023098779247692\n",
      "epoch 78 loss: -0.5657\n",
      "MSE: 0.010060327710483458\n",
      "epoch 79 loss: -0.5711\n",
      "MSE: 0.009903315485542168\n",
      "epoch 80 loss: -0.5764\n",
      "MSE: 0.00975089256502769\n",
      "epoch 81 loss: -0.5810\n",
      "MSE: 0.009464198066513803\n",
      "epoch 82 loss: -0.5863\n",
      "MSE: 0.009380035935046903\n",
      "epoch 83 loss: -0.5913\n",
      "MSE: 0.009261435800499405\n",
      "epoch 84 loss: -0.5962\n",
      "MSE: 0.009135380925309453\n",
      "epoch 85 loss: -0.6010\n",
      "MSE: 0.009012739716314696\n",
      "epoch 86 loss: -0.6052\n",
      "MSE: 0.008770624177178886\n",
      "epoch 87 loss: -0.6100\n",
      "MSE: 0.008707728230400088\n",
      "epoch 88 loss: -0.6147\n",
      "MSE: 0.008612994773927709\n",
      "epoch 89 loss: -0.6191\n",
      "MSE: 0.008509714735906376\n",
      "epoch 90 loss: -0.6235\n",
      "MSE: 0.00840898825586158\n",
      "epoch 91 loss: -0.6272\n",
      "MSE: 0.008201147665494854\n",
      "epoch 92 loss: -0.6318\n",
      "MSE: 0.008152357788856151\n",
      "epoch 93 loss: -0.6360\n",
      "MSE: 0.008073544082646046\n",
      "epoch 94 loss: -0.6401\n",
      "MSE: 0.007986699154873279\n",
      "epoch 95 loss: -0.6435\n",
      "MSE: 0.007804141269891906\n",
      "epoch 96 loss: -0.6478\n",
      "MSE: 0.007763691878687213\n",
      "epoch 97 loss: -0.6517\n",
      "MSE: 0.007696613979341685\n",
      "epoch 98 loss: -0.6556\n",
      "MSE: 0.007621713483439534\n",
      "epoch 99 loss: -0.6587\n",
      "MSE: 0.007457907867441165\n",
      "epoch 100 loss: -0.6627\n",
      "MSE: 0.007425426098957629\n"
     ]
    }
   ],
   "source": [
    "model_beta_nll_loss = []\n",
    "model_beta_mse_loss = []\n",
    "model_beta_val_mse_loss = []\n",
    "\n",
    "num_epochs = 100\n",
    "for epoch in range(num_epochs):\n",
    "    for i, (x, y) in enumerate(train_loader):\n",
    "        y = torch.squeeze(y)\n",
    "        # print(y.shape)\n",
    "        alpha, beta = model_beta(x)\n",
    "        # print(y, alpha, beta)\n",
    "        loss = criterion_beta(y, alpha, beta)\n",
    "        \n",
    "        optimizer.zero_grad()\n",
    "        loss.backward()\n",
    "        optimizer.step()\n",
    "        if i == 0:\n",
    "            model_beta_nll_loss.append(loss.item())\n",
    "            model_beta_mse_loss.append(mean_squared_error(alpha, beta, y))\n",
    "            print(\"epoch {} loss: {:.4f}\".format(epoch + 1, loss.item()))\n",
    "            print(\"MSE:\", mean_squared_error(alpha, beta, y))\n",
    "            model_beta_val_mse_loss.append(validate_beta_model(model_beta))"
   ]
  },
  {
   "cell_type": "code",
   "execution_count": 115,
   "id": "bec8cdd0-3289-44ee-b7e5-29b50d846ea7",
   "metadata": {},
   "outputs": [
    {
     "name": "stdout",
     "output_type": "stream",
     "text": [
      "alpha: 4.324879220452097 | beta: 3.5057128875375314\n",
      "Target: 0.5760895577950915 | Predicted(using mean):  0.5523055167232349\n",
      "NLL Loss: -0.7798225126097162\n",
      "MSE Loss: 0.0005656806097077621\n"
     ]
    }
   ],
   "source": [
    "example_id = 0\n",
    "test_data = X_test[example_id]\n",
    "test_target = Y_test[example_id]\n",
    "a, b = model_beta(test_data.unsqueeze(0))\n",
    "\n",
    "print(\"alpha:\", a.item(), \"| beta:\", b.item())\n",
    "print(\"Target:\", test_target.item(), \"| Predicted(using mean): \", (a / (a+b)).item())\n",
    "print(\"NLL Loss:\", criterion_beta(test_target,a , b).item())\n",
    "print(\"MSE Loss:\", mean_squared_error(a, b, test_target))"
   ]
  },
  {
   "cell_type": "code",
   "execution_count": 149,
   "id": "5860ab98-6121-4ec5-bcd2-d266a0b203bd",
   "metadata": {},
   "outputs": [
    {
     "name": "stdout",
     "output_type": "stream",
     "text": [
      "ModelBeta(\n",
      "  (linear1): Linear(in_features=5, out_features=5, bias=True)\n",
      "  (linear2): Linear(in_features=5, out_features=2, bias=True)\n",
      ")\n"
     ]
    }
   ],
   "source": [
    "print(model_beta)"
   ]
  },
  {
   "cell_type": "code",
   "execution_count": 116,
   "id": "e1c4de32-84a2-4d01-9c7c-8458f33c6893",
   "metadata": {},
   "outputs": [
    {
     "name": "stderr",
     "output_type": "stream",
     "text": [
      "/Users/atulramkrishnan/miniforge3/envs/pytorch_nightly/lib/python3.9/site-packages/scipy/stats/_continuous_distns.py:624: RuntimeWarning: overflow encountered in _beta_ppf\n",
      "  return _boost._beta_ppf(q, a, b)\n"
     ]
    },
    {
     "data": {
      "text/plain": [
       "[<matplotlib.lines.Line2D at 0x1566e2130>]"
      ]
     },
     "execution_count": 116,
     "metadata": {},
     "output_type": "execute_result"
    },
    {
     "data": {
      "image/png": "[encoded data removed]",
      "text/plain": [
       "<Figure size 432x288 with 1 Axes>"
      ]
     },
     "metadata": {
      "needs_background": "light"
     },
     "output_type": "display_data"
    }
   ],
   "source": [
    "a = a.detach().numpy()\n",
    "b = b.detach().numpy()\n",
    "x = np.linspace(scipy.stats.beta.ppf(0.01, a, b),\n",
    "                scipy.stats.beta.ppf(0.99, a, b), 100)\n",
    "\n",
    "plt.plot(x, scipy.stats.beta.pdf(x, a, b),\n",
    "       'r-', lw=5, alpha=0.6, label='beta pdf')"
   ]
  },
  {
   "cell_type": "code",
   "execution_count": 152,
   "id": "268315eb-9588-43d9-b92b-b769cd89a7c1",
   "metadata": {},
   "outputs": [
    {
     "name": "stderr",
     "output_type": "stream",
     "text": [
      "The PostScript backend does not support transparency; partially transparent artists will be rendered opaque.\n"
     ]
    },
    {
     "data": {
      "image/png": "[encoded data removed]",
      "text/plain": [
       "<Figure size 432x288 with 1 Axes>"
      ]
     },
     "metadata": {
      "needs_background": "light"
     },
     "output_type": "display_data"
    }
   ],
   "source": [
    "plt.plot(model_mse_loss, 'b', label='Traditional')\n",
    "plt.plot(model_beta_mse_loss, 'r', label='Beta')\n",
    "plt.xlabel('Epoch')\n",
    "plt.ylabel('Loss')\n",
    "plt.title('Training loss (MSE)')\n",
    "plt.legend()\n",
    "plt.savefig('Airfoil training MSE loss.eps')"
   ]
  },
  {
   "cell_type": "code",
   "execution_count": 151,
   "id": "f5b17413-e227-439c-bde6-e70b7b2115fe",
   "metadata": {},
   "outputs": [
    {
     "data": {
      "image/png": "[encoded data removed]",
      "text/plain": [
       "<Figure size 432x288 with 1 Axes>"
      ]
     },
     "metadata": {
      "needs_background": "light"
     },
     "output_type": "display_data"
    }
   ],
   "source": [
    "plt.plot(model_mse_val_loss, 'b', label='Traditional')\n",
    "plt.plot(model_beta_val_mse_loss, 'r', label='Beta')\n",
    "plt.xlabel('Epoch')\n",
    "plt.ylabel('Loss')\n",
    "plt.title('Validation loss (MSE)')\n",
    "plt.legend()\n",
    "plt.savefig('Airfoil validation MSE loss.png')"
   ]
  },
  {
   "cell_type": "code",
   "execution_count": null,
   "id": "cc1a682c-8f64-4e66-90a8-2a38bd178d30",
   "metadata": {},
   "outputs": [],
   "source": []
  }
 ],
 "metadata": {
  "kernelspec": {
   "display_name": "Python 3 (ipykernel)",
   "language": "python",
   "name": "python3"
  },
  "language_info": {
   "codemirror_mode": {
    "name": "ipython",
    "version": 3
   },
   "file_extension": ".py",
   "mimetype": "text/x-python",
   "name": "python",
   "nbconvert_exporter": "python",
   "pygments_lexer": "ipython3",
   "version": "3.9.12"
  }
 },
 "nbformat": 4,
 "nbformat_minor": 5
}
