{
 "cells": [
  {
   "cell_type": "markdown",
   "id": "6b68f93f-5873-44da-a70d-ba15f2986d83",
   "metadata": {},
   "source": [
    "# 4.4 Low-Dimensional Embedding For Dirichlet-Multinomial Data"
   ]
  },
  {
   "cell_type": "code",
   "execution_count": 1,
   "id": "7d242b57-a3d5-4143-960e-2094898d93a6",
   "metadata": {},
   "outputs": [],
   "source": [
    "import numpy as np\n",
    "import torch\n",
    "import torch.nn as nn\n",
    "import math\n",
    "import matplotlib.pyplot as plt\n",
    "from scipy.special import psi\n",
    "import random\n",
    "from sklearn.model_selection import train_test_split"
   ]
  },
  {
   "cell_type": "code",
   "execution_count": 2,
   "id": "3f491509-bac2-473f-81f2-6e48726ceb88",
   "metadata": {},
   "outputs": [],
   "source": [
    "EPS = torch.finfo(torch.float64).eps"
   ]
  },
  {
   "cell_type": "code",
   "execution_count": 3,
   "id": "ec5431f2-8481-4b2c-a269-a6ed0dad5172",
   "metadata": {},
   "outputs": [],
   "source": [
    "def criterion_beta_liouville_multinomial(alpha_i, alpha, beta, target):\n",
    "    target = torch.clamp(target, min=EPS)\n",
    "    alpha = torch.clamp(alpha, min=EPS)\n",
    "    beta = torch.clamp(beta, min=EPS)\n",
    "    alpha_i = torch.clamp(alpha_i, min=EPS)\n",
    "    \n",
    "    alpha_i_prime = alpha_i + target[:, :-1]\n",
    "    alpha_prime = alpha + torch.sum(target[:, :-1], dim=1)\n",
    "    beta_prime = beta + target[:, -1]\n",
    "    \n",
    "    return -(torch.lgamma(torch.sum(target, dim=1) + 1) - torch.sum(torch.lgamma(target + 1), dim=1)\n",
    "            + torch.lgamma(torch.sum(alpha_i, dim=1)) - torch.lgamma(torch.sum(alpha_i_prime, dim=1))\n",
    "            + torch.lgamma(alpha + beta) - torch.lgamma(alpha_prime + beta_prime)\n",
    "            + torch.lgamma(alpha_prime) - torch.lgamma(alpha)\n",
    "            + torch.lgamma(beta_prime) - torch.lgamma(beta)\n",
    "            + torch.sum(torch.lgamma(alpha_i_prime), dim=1) - torch.sum(torch.lgamma(alpha_i), dim=1)).mean()"
   ]
  },
  {
   "cell_type": "code",
   "execution_count": 4,
   "id": "b4fa83d1-852d-4ece-82ae-6a422533e8d8",
   "metadata": {},
   "outputs": [],
   "source": [
    "torch.use_deterministic_algorithms(True)\n",
    "torch.manual_seed(0)\n",
    "random.seed(0)\n",
    "np.random.seed(0)"
   ]
  },
  {
   "cell_type": "code",
   "execution_count": 5,
   "id": "bf2a1016-ac0e-4bfe-baff-73fa553a6046",
   "metadata": {},
   "outputs": [],
   "source": [
    "num_dim = 100\n",
    "num_clusters = 10\n",
    "num_samples_per_cluster = 1000"
   ]
  },
  {
   "cell_type": "code",
   "execution_count": 6,
   "id": "343dd415-9c41-4bc7-8f05-4bfbeecdba3e",
   "metadata": {},
   "outputs": [],
   "source": [
    "alpha = (0.1, ) * num_dim"
   ]
  },
  {
   "cell_type": "code",
   "execution_count": 7,
   "id": "095205a9-d2b3-4902-8fc2-af4ca35302ac",
   "metadata": {},
   "outputs": [],
   "source": [
    "X = np.zeros((num_clusters * num_samples_per_cluster, num_dim))\n",
    "y = np.zeros((num_clusters * num_samples_per_cluster, ))"
   ]
  },
  {
   "cell_type": "code",
   "execution_count": 8,
   "id": "a00920ba-2f68-42e0-b654-b80761b41776",
   "metadata": {},
   "outputs": [],
   "source": [
    "for i in range(num_clusters):\n",
    "    n = math.floor(np.random.uniform(50, 100, 1))\n",
    "    p = np.random.dirichlet(alpha, 1)[0]\n",
    "    X[i * num_samples_per_cluster : (i + 1) * num_samples_per_cluster, :] = np.random.multinomial(n, p, size=num_samples_per_cluster)\n",
    "    y[i * num_samples_per_cluster : (i + 1) * num_samples_per_cluster] = i"
   ]
  },
  {
   "cell_type": "code",
   "execution_count": 9,
   "id": "f640b74e-4555-4db4-ab55-f21b8418518d",
   "metadata": {},
   "outputs": [],
   "source": [
    "X_tensor = torch.tensor(X, dtype=torch.float64)\n",
    "y_tensor = torch.tensor(y, dtype=torch.int64)"
   ]
  },
  {
   "cell_type": "code",
   "execution_count": 10,
   "id": "6458c612-5f4c-47d4-824a-88904c360f79",
   "metadata": {},
   "outputs": [],
   "source": [
    "X_train, X_test, Y_train, Y_test = train_test_split(X_tensor, y_tensor, test_size=0.2, random_state=42)"
   ]
  },
  {
   "cell_type": "code",
   "execution_count": 11,
   "id": "0d17b64f-e00b-4a9c-8853-c774613388bd",
   "metadata": {},
   "outputs": [],
   "source": [
    "dataset_train = torch.utils.data.TensorDataset(X_train, Y_train)\n",
    "dataset_test = torch.utils.data.TensorDataset(X_test, Y_test)\n",
    "train_loader = torch.utils.data.DataLoader(dataset_train, batch_size=32, shuffle=False)\n",
    "test_loader = torch.utils.data.DataLoader(dataset_test, batch_size=32, shuffle=False)"
   ]
  },
  {
   "cell_type": "code",
   "execution_count": 12,
   "id": "44a05698-f49e-4e85-ad3e-2045aff36211",
   "metadata": {},
   "outputs": [],
   "source": [
    "class IL(nn.Module):\n",
    "    def __init__(self):\n",
    "        super().__init__()\n",
    "    \n",
    "    def forward(self, x):\n",
    "        eps = 1e-6\n",
    "        return torch.where(x < 0, (1 / (1 - x)) + eps, x + 1 + eps)"
   ]
  },
  {
   "cell_type": "code",
   "execution_count": 13,
   "id": "c2bbf902-f04b-421f-91a2-b3af0a1bb5e6",
   "metadata": {},
   "outputs": [],
   "source": [
    "class EL(nn.Module):\n",
    "    def __init__(self):\n",
    "        super().__init__()\n",
    "        \n",
    "    def forward(self, x):\n",
    "        return torch.nn.functional.elu(x) + 1"
   ]
  },
  {
   "cell_type": "code",
   "execution_count": 14,
   "id": "667c3180-f4b6-4e1b-9eb7-cf771ffd8de3",
   "metadata": {},
   "outputs": [],
   "source": [
    "def plot_latent(autoencoder, data, label):\n",
    "    encoded = model.encoder(data).detach().numpy()\n",
    "    plt.scatter(encoded[:, 0], encoded[:, 1], c=label.detach().numpy())\n",
    "    plt.colorbar()"
   ]
  },
  {
   "cell_type": "code",
   "execution_count": 15,
   "id": "8982e27b-cc73-4cb3-bfb8-74fce0c23e9e",
   "metadata": {},
   "outputs": [],
   "source": [
    "batch_size = 100\n",
    "n_epochs = 100"
   ]
  },
  {
   "cell_type": "code",
   "execution_count": 16,
   "id": "2b057c4f-9a78-4f6a-b903-181664931f59",
   "metadata": {},
   "outputs": [],
   "source": [
    "class AutoEncoderBaseline(nn.Module):\n",
    "    def __init__(self, num_input=100, num_bottleneck=2):\n",
    "        super(AutoEncoderBaseline, self).__init__()\n",
    "        self.encoder = nn.Sequential(\n",
    "            nn.Linear(num_input, 100, dtype=torch.float64),\n",
    "            nn.ReLU(True),\n",
    "            nn.Linear(100, 64, dtype=torch.float64),\n",
    "            nn.ReLU(True), nn.Linear(64, 12, dtype=torch.float64), nn.ReLU(True), nn.Linear(12, num_bottleneck, dtype=torch.float64))\n",
    "        self.decoder = nn.Sequential(\n",
    "            nn.Linear(num_bottleneck, 12, dtype=torch.float64),\n",
    "            nn.ReLU(True),\n",
    "            nn.Linear(12, 64, dtype=torch.float64),\n",
    "            nn.ReLU(True),\n",
    "            nn.Linear(64, 100, dtype=torch.float64),\n",
    "            nn.ReLU(True), nn.Linear(100, num_input, dtype=torch.float64))\n",
    "\n",
    "    def forward(self, x):\n",
    "        x = self.encoder(x)\n",
    "        x = self.decoder(x)\n",
    "        return x"
   ]
  },
  {
   "cell_type": "code",
   "execution_count": 17,
   "id": "dfd4920c-eab8-4a2d-be96-20fee1b11089",
   "metadata": {},
   "outputs": [],
   "source": [
    "model = AutoEncoderBaseline()\n",
    "criterion = nn.MSELoss()\n",
    "optimizer = torch.optim.Adam(model.parameters(), lr=0.001)"
   ]
  },
  {
   "cell_type": "code",
   "execution_count": 18,
   "id": "c074738b-c869-46ce-936f-396df0168779",
   "metadata": {},
   "outputs": [
    {
     "name": "stdout",
     "output_type": "stream",
     "text": [
      "Epoch 1: loss: 5.261938489903658\n",
      "Epoch 2: loss: 4.653479101841764\n",
      "Epoch 3: loss: 5.119325222963981\n",
      "Epoch 4: loss: 4.039541509625288\n",
      "Epoch 5: loss: 3.888424983888145\n",
      "Epoch 6: loss: 3.9219288893586155\n",
      "Epoch 7: loss: 4.350337413435339\n",
      "Epoch 8: loss: 4.575652511998317\n",
      "Epoch 9: loss: 4.394770935504789\n",
      "Epoch 10: loss: 4.565332559195037\n",
      "Epoch 11: loss: 4.410604166635317\n",
      "Epoch 12: loss: 4.6939242501512\n",
      "Epoch 13: loss: 4.224710318121977\n",
      "Epoch 14: loss: 4.089109601929649\n",
      "Epoch 15: loss: 3.997129200887712\n",
      "Epoch 16: loss: 3.972904733226269\n",
      "Epoch 17: loss: 3.973999153900562\n",
      "Epoch 18: loss: 3.9471722127485425\n",
      "Epoch 19: loss: 3.9731602791222214\n",
      "Epoch 20: loss: 3.858465545898571\n",
      "Epoch 21: loss: 3.99376567990183\n",
      "Epoch 22: loss: 4.020276321114854\n",
      "Epoch 23: loss: 4.3036310484037585\n",
      "Epoch 24: loss: 3.966899564683519\n",
      "Epoch 25: loss: 4.2423187768121755\n",
      "Epoch 26: loss: 4.052342061374541\n",
      "Epoch 27: loss: 4.039809561341324\n",
      "Epoch 28: loss: 4.393112133719027\n",
      "Epoch 29: loss: 4.817605034906018\n",
      "Epoch 30: loss: 3.9894126924671998\n",
      "Epoch 31: loss: 3.8346829823566915\n",
      "Epoch 32: loss: 3.742908580310191\n",
      "Epoch 33: loss: 3.630751974317953\n",
      "Epoch 34: loss: 3.371032589690297\n",
      "Epoch 35: loss: 3.3697664294600638\n",
      "Epoch 36: loss: 3.1466390157810573\n",
      "Epoch 37: loss: 2.9820970601850036\n",
      "Epoch 38: loss: 2.8978226156260085\n",
      "Epoch 39: loss: 2.8201358926517095\n",
      "Epoch 40: loss: 2.902015464973879\n",
      "Epoch 41: loss: 2.785497427464242\n",
      "Epoch 42: loss: 3.0722688731141994\n",
      "Epoch 43: loss: 2.675830041989506\n",
      "Epoch 44: loss: 3.3617998560906117\n",
      "Epoch 45: loss: 2.578233386326491\n",
      "Epoch 46: loss: 2.403538285819267\n",
      "Epoch 47: loss: 2.5143826061459893\n",
      "Epoch 48: loss: 2.3783237644138313\n",
      "Epoch 49: loss: 2.43867093307076\n",
      "Epoch 50: loss: 2.6641296287754157\n",
      "Epoch 51: loss: 6.171069357405056\n",
      "Epoch 52: loss: 2.7558620682285886\n",
      "Epoch 53: loss: 2.7594025807182847\n",
      "Epoch 54: loss: 3.1565903222755156\n",
      "Epoch 55: loss: 2.6388267726902037\n",
      "Epoch 56: loss: 2.7041999810216786\n",
      "Epoch 57: loss: 2.612634663031878\n",
      "Epoch 58: loss: 2.4636776104729763\n",
      "Epoch 59: loss: 2.353849676196089\n",
      "Epoch 60: loss: 2.362461767081853\n",
      "Epoch 61: loss: 2.5715679333295025\n",
      "Epoch 62: loss: 2.542816665048025\n",
      "Epoch 63: loss: 2.3611589751878075\n",
      "Epoch 64: loss: 2.316444081448388\n",
      "Epoch 65: loss: 2.556792638119151\n",
      "Epoch 66: loss: 2.6231265239822736\n",
      "Epoch 67: loss: 2.4880399439183085\n",
      "Epoch 68: loss: 2.577636328045359\n",
      "Epoch 69: loss: 2.3294005920951846\n",
      "Epoch 70: loss: 2.2826146256637854\n",
      "Epoch 71: loss: 2.3122420486397965\n",
      "Epoch 72: loss: 2.086701131022868\n",
      "Epoch 73: loss: 2.867821283674896\n",
      "Epoch 74: loss: 2.5296579257087766\n",
      "Epoch 75: loss: 2.321499924172998\n",
      "Epoch 76: loss: 2.4463882649792996\n",
      "Epoch 77: loss: 5.126860883117473\n",
      "Epoch 78: loss: 3.765794863973379\n",
      "Epoch 79: loss: 1.8819670654836504\n",
      "Epoch 80: loss: 2.057510545407712\n",
      "Epoch 81: loss: 2.4651703879635307\n",
      "Epoch 82: loss: 1.2935643558625283\n",
      "Epoch 83: loss: 1.2319059950125792\n",
      "Epoch 84: loss: 1.6442049632941402\n",
      "Epoch 85: loss: 0.8847139750365431\n",
      "Epoch 86: loss: 1.0611807715182406\n",
      "Epoch 87: loss: 0.7902610446543173\n",
      "Epoch 88: loss: 0.7724571179894635\n",
      "Epoch 89: loss: 0.8284207539962375\n",
      "Epoch 90: loss: 0.8301685664177249\n",
      "Epoch 91: loss: 0.7636034653405037\n",
      "Epoch 92: loss: 0.8139266211125233\n",
      "Epoch 93: loss: 1.0180802432691418\n",
      "Epoch 94: loss: 0.9651897263110257\n",
      "Epoch 95: loss: 1.2715052012577883\n",
      "Epoch 96: loss: 1.0882350236522107\n",
      "Epoch 97: loss: 0.7996837543738802\n",
      "Epoch 98: loss: 0.7625724088671154\n",
      "Epoch 99: loss: 0.8111907504160201\n",
      "Epoch 100: loss: 0.7447164326691317\n"
     ]
    }
   ],
   "source": [
    "for epoch in range(1, n_epochs + 1):\n",
    "    for i in range(0, 10000, batch_size):\n",
    "        X_batch = X_tensor[i: i+batch_size]\n",
    "        output = model(X_batch)\n",
    "        loss = criterion(output, X_batch)\n",
    "        if i == 0:\n",
    "            # print(output)\n",
    "            # print(X_batch)\n",
    "            print(f\"Epoch {epoch}: loss: {loss.item()}\")\n",
    "        \n",
    "        optimizer.zero_grad()\n",
    "        loss.backward()\n",
    "        optimizer.step()"
   ]
  },
  {
   "cell_type": "code",
   "execution_count": 19,
   "id": "8a01cf54-8e15-4c18-a373-06efdaf5a617",
   "metadata": {},
   "outputs": [
    {
     "data": {
      "image/png": "[encoded data removed]",
      "text/plain": [
       "<Figure size 432x288 with 2 Axes>"
      ]
     },
     "metadata": {
      "needs_background": "light"
     },
     "output_type": "display_data"
    }
   ],
   "source": [
    "plot_latent(model, X_train, Y_train)"
   ]
  },
  {
   "cell_type": "code",
   "execution_count": 20,
   "id": "7a987e20-f8d6-4a42-8788-4eacee8620cf",
   "metadata": {},
   "outputs": [
    {
     "data": {
      "image/png": "[encoded data removed]",
      "text/plain": [
       "<Figure size 432x288 with 2 Axes>"
      ]
     },
     "metadata": {
      "needs_background": "light"
     },
     "output_type": "display_data"
    }
   ],
   "source": [
    "plot_latent(model, X_test, Y_test)"
   ]
  },
  {
   "cell_type": "code",
   "execution_count": 21,
   "id": "24a19dc7-0ceb-4c1d-8802-1bbd0c3b5bb5",
   "metadata": {},
   "outputs": [],
   "source": [
    "class AutoEncoder(nn.Module):\n",
    "    def __init__(self, num_input=100, num_bottleneck=2):\n",
    "        super(AutoEncoder, self).__init__()\n",
    "        self.encoder = nn.Sequential(\n",
    "            nn.Linear(num_input, 64, dtype=torch.float64),\n",
    "            nn.Tanh(),\n",
    "            nn.Linear(64, 12, dtype=torch.float64),\n",
    "            nn.Tanh(),\n",
    "            nn.Linear(12, num_bottleneck, dtype=torch.float64)\n",
    "        )\n",
    "        \n",
    "        self.decoder = nn.Sequential(\n",
    "            nn.Linear(num_bottleneck, 12, dtype=torch.float64),\n",
    "            nn.Tanh(),\n",
    "            nn.Linear(12, 64, dtype=torch.float64),\n",
    "            nn.Tanh()\n",
    "        )\n",
    "        \n",
    "        self.GeneralizedDirichletMultinomialAlpha_i = nn.Sequential(\n",
    "        nn.Linear(64, num_input - 1, dtype=torch.float64),\n",
    "        EL()\n",
    "        )\n",
    "        \n",
    "        self.GeneralizedDirichletMultinomialAlpha = nn.Sequential(\n",
    "        nn.Linear(64, 1, dtype=torch.float64),\n",
    "        EL()\n",
    "        )\n",
    "        \n",
    "        self.GeneralizedDirichletMultinomialBeta = nn.Sequential(\n",
    "        nn.Linear(64, 1, dtype=torch.float64),\n",
    "        EL()\n",
    "        )\n",
    "    \n",
    "    def forward(self, x):\n",
    "        encoded = self.encoder(x)\n",
    "        decoded = self.decoder(encoded)\n",
    "        alpha_i = self.GeneralizedDirichletMultinomialAlpha_i(decoded)\n",
    "        alpha = self.GeneralizedDirichletMultinomialAlpha(decoded)\n",
    "        beta = self.GeneralizedDirichletMultinomialBeta(decoded)\n",
    "        return alpha_i, alpha, beta"
   ]
  },
  {
   "cell_type": "code",
   "execution_count": 22,
   "id": "8968a4d7-23a9-4d02-a794-d03b0eb76faf",
   "metadata": {},
   "outputs": [],
   "source": [
    "num_bottleneck = 2\n",
    "model = AutoEncoder(num_dim, num_bottleneck)\n",
    "optimizer = torch.optim.Adam(model.parameters(), lr=0.0001)"
   ]
  },
  {
   "cell_type": "code",
   "execution_count": 23,
   "id": "ed663dd9-434d-4743-8097-d9a9d0b58d9a",
   "metadata": {},
   "outputs": [
    {
     "name": "stdout",
     "output_type": "stream",
     "text": [
      "AutoEncoder(\n",
      "  (encoder): Sequential(\n",
      "    (0): Linear(in_features=100, out_features=64, bias=True)\n",
      "    (1): Tanh()\n",
      "    (2): Linear(in_features=64, out_features=12, bias=True)\n",
      "    (3): Tanh()\n",
      "    (4): Linear(in_features=12, out_features=2, bias=True)\n",
      "  )\n",
      "  (decoder): Sequential(\n",
      "    (0): Linear(in_features=2, out_features=12, bias=True)\n",
      "    (1): Tanh()\n",
      "    (2): Linear(in_features=12, out_features=64, bias=True)\n",
      "    (3): Tanh()\n",
      "  )\n",
      "  (GeneralizedDirichletMultinomialAlpha_i): Sequential(\n",
      "    (0): Linear(in_features=64, out_features=99, bias=True)\n",
      "    (1): EL()\n",
      "  )\n",
      "  (GeneralizedDirichletMultinomialAlpha): Sequential(\n",
      "    (0): Linear(in_features=64, out_features=1, bias=True)\n",
      "    (1): EL()\n",
      "  )\n",
      "  (GeneralizedDirichletMultinomialBeta): Sequential(\n",
      "    (0): Linear(in_features=64, out_features=1, bias=True)\n",
      "    (1): EL()\n",
      "  )\n",
      ")\n"
     ]
    }
   ],
   "source": [
    "print(model)"
   ]
  },
  {
   "cell_type": "code",
   "execution_count": 24,
   "id": "d5aae9cf-2aa6-48e0-8bd3-589845bff218",
   "metadata": {},
   "outputs": [
    {
     "name": "stdout",
     "output_type": "stream",
     "text": [
      "Epoch 1: loss: 121.05155697578846\n",
      "Epoch 2: loss: 117.04534632425722\n",
      "Epoch 3: loss: 113.45890037553275\n",
      "Epoch 4: loss: 109.19811282185894\n",
      "Epoch 5: loss: 104.35308779894117\n",
      "Epoch 6: loss: 99.44140975293878\n",
      "Epoch 7: loss: 94.97465155804849\n",
      "Epoch 8: loss: 91.27416199751907\n",
      "Epoch 9: loss: 88.37082847239601\n",
      "Epoch 10: loss: 86.1223775229512\n",
      "Epoch 11: loss: 84.40010572661315\n",
      "Epoch 12: loss: 83.09569613160957\n",
      "Epoch 13: loss: 82.09802676739726\n",
      "Epoch 14: loss: 81.32893634092933\n",
      "Epoch 15: loss: 80.72522501154525\n",
      "Epoch 16: loss: 80.24119869549337\n",
      "Epoch 17: loss: 79.84376072914307\n",
      "Epoch 18: loss: 79.51047379740882\n",
      "Epoch 19: loss: 79.22626582197438\n",
      "Epoch 20: loss: 78.97992156655022\n",
      "Epoch 21: loss: 78.75764817171327\n",
      "Epoch 22: loss: 78.54699011562735\n",
      "Epoch 23: loss: 78.34335270532665\n",
      "Epoch 24: loss: 78.15411185355237\n",
      "Epoch 25: loss: 77.96937248346077\n",
      "Epoch 26: loss: 77.794645939302\n",
      "Epoch 27: loss: 77.62455992867277\n",
      "Epoch 28: loss: 77.46139582469782\n",
      "Epoch 29: loss: 77.30576894107267\n",
      "Epoch 30: loss: 77.1549987817198\n",
      "Epoch 31: loss: 77.01182245065768\n",
      "Epoch 32: loss: 76.87311594301939\n",
      "Epoch 33: loss: 76.74151729954735\n",
      "Epoch 34: loss: 76.61451556116624\n",
      "Epoch 35: loss: 76.49271944707067\n",
      "Epoch 36: loss: 76.37567548485593\n",
      "Epoch 37: loss: 76.26240341072771\n",
      "Epoch 38: loss: 76.15438664574052\n",
      "Epoch 39: loss: 76.0496067546814\n",
      "Epoch 40: loss: 75.94975873504836\n",
      "Epoch 41: loss: 75.85197453779224\n",
      "Epoch 42: loss: 75.75877087581692\n",
      "Epoch 43: loss: 75.66727332263076\n",
      "Epoch 44: loss: 75.5801197704795\n",
      "Epoch 45: loss: 75.49490637480501\n",
      "Epoch 46: loss: 75.41335252642406\n",
      "Epoch 47: loss: 75.33462841568175\n",
      "Epoch 48: loss: 75.25846944522209\n",
      "Epoch 49: loss: 75.18695130471731\n",
      "Epoch 50: loss: 75.11696266632872\n",
      "Epoch 51: loss: 75.05368650868851\n",
      "Epoch 52: loss: 74.98440048761039\n",
      "Epoch 53: loss: 74.9165565065347\n",
      "Epoch 54: loss: 74.85157903373727\n",
      "Epoch 55: loss: 74.78791647714012\n",
      "Epoch 56: loss: 74.72765103210986\n",
      "Epoch 57: loss: 74.66445562734452\n",
      "Epoch 58: loss: 74.60527521855931\n",
      "Epoch 59: loss: 74.5425735325436\n",
      "Epoch 60: loss: 74.48159489766596\n",
      "Epoch 61: loss: 74.41832016589674\n",
      "Epoch 62: loss: 74.35361611753419\n",
      "Epoch 63: loss: 74.28839414396882\n",
      "Epoch 64: loss: 74.22251731982398\n",
      "Epoch 65: loss: 74.15658371324102\n",
      "Epoch 66: loss: 74.0902516210039\n",
      "Epoch 67: loss: 74.02345246152332\n",
      "Epoch 68: loss: 73.95586945687695\n",
      "Epoch 69: loss: 73.88702142756472\n",
      "Epoch 70: loss: 73.81720079527797\n",
      "Epoch 71: loss: 73.74718280934701\n",
      "Epoch 72: loss: 73.67546066383687\n",
      "Epoch 73: loss: 73.60162215473396\n",
      "Epoch 74: loss: 73.52665386185953\n",
      "Epoch 75: loss: 73.451087986254\n",
      "Epoch 76: loss: 73.37520721854649\n",
      "Epoch 77: loss: 73.29968726793354\n",
      "Epoch 78: loss: 73.22477087966766\n",
      "Epoch 79: loss: 73.15046495941934\n",
      "Epoch 80: loss: 73.0744138382755\n",
      "Epoch 81: loss: 72.99292903467384\n",
      "Epoch 82: loss: 72.9082998554404\n",
      "Epoch 83: loss: 72.82322665731375\n",
      "Epoch 84: loss: 72.73747735939331\n",
      "Epoch 85: loss: 72.65048460948712\n",
      "Epoch 86: loss: 72.56184204639145\n",
      "Epoch 87: loss: 72.47129581902902\n",
      "Epoch 88: loss: 72.37873739680442\n",
      "Epoch 89: loss: 72.28480110684279\n",
      "Epoch 90: loss: 72.1941665045631\n",
      "Epoch 91: loss: 72.1271217668416\n",
      "Epoch 92: loss: 72.01368890077008\n",
      "Epoch 93: loss: 71.8762296398192\n",
      "Epoch 94: loss: 71.76968802426232\n",
      "Epoch 95: loss: 71.65986850978746\n",
      "Epoch 96: loss: 71.54791822606072\n",
      "Epoch 97: loss: 71.43485375267976\n",
      "Epoch 98: loss: 71.32174024548314\n",
      "Epoch 99: loss: 71.21059764426042\n",
      "Epoch 100: loss: 71.09942692559446\n"
     ]
    }
   ],
   "source": [
    "for epoch in range(1, n_epochs + 1):\n",
    "    for i in range(0, 10000, batch_size):\n",
    "        X_batch = X_tensor[i: i+batch_size]\n",
    "        \n",
    "        alpha_i, alpha, beta = model(X_batch)\n",
    "        loss = criterion_beta_liouville_multinomial(alpha_i, alpha, beta, X_batch)\n",
    "        if i == 0:\n",
    "            print(f\"Epoch {epoch}: loss: {loss.item()}\")\n",
    "        \n",
    "        optimizer.zero_grad()\n",
    "        loss.backward()\n",
    "        optimizer.step()"
   ]
  },
  {
   "cell_type": "code",
   "execution_count": 25,
   "id": "6afe2b25-74ac-4a1c-befb-214b08264da4",
   "metadata": {},
   "outputs": [
    {
     "data": {
      "image/png": "[encoded data removed]",
      "text/plain": [
       "<Figure size 432x288 with 2 Axes>"
      ]
     },
     "metadata": {
      "needs_background": "light"
     },
     "output_type": "display_data"
    }
   ],
   "source": [
    "plot_latent(model, X_train, Y_train)"
   ]
  },
  {
   "cell_type": "code",
   "execution_count": 26,
   "id": "ebeac13c-d130-481b-b654-ec66895db217",
   "metadata": {},
   "outputs": [
    {
     "data": {
      "image/png": "[encoded data removed]",
      "text/plain": [
       "<Figure size 432x288 with 2 Axes>"
      ]
     },
     "metadata": {
      "needs_background": "light"
     },
     "output_type": "display_data"
    }
   ],
   "source": [
    "plot_latent(model, X_test, Y_test)"
   ]
  }
 ],
 "metadata": {
  "kernelspec": {
   "display_name": "Python 3 (ipykernel)",
   "language": "python",
   "name": "python3"
  },
  "language_info": {
   "codemirror_mode": {
    "name": "ipython",
    "version": 3
   },
   "file_extension": ".py",
   "mimetype": "text/x-python",
   "name": "python",
   "nbconvert_exporter": "python",
   "pygments_lexer": "ipython3",
   "version": "3.9.13"
  }
 },
 "nbformat": 4,
 "nbformat_minor": 5
}
