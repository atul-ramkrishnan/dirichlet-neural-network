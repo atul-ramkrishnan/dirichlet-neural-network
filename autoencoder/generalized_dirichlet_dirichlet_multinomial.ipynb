{
 "cells": [
  {
   "cell_type": "markdown",
   "id": "6b68f93f-5873-44da-a70d-ba15f2986d83",
   "metadata": {},
   "source": [
    "# 4.4 Low-Dimensional Embedding For Dirichlet-Multinomial Data"
   ]
  },
  {
   "cell_type": "code",
   "execution_count": 1,
   "id": "7d242b57-a3d5-4143-960e-2094898d93a6",
   "metadata": {},
   "outputs": [],
   "source": [
    "import numpy as np\n",
    "import torch\n",
    "import torch.nn as nn\n",
    "import math\n",
    "import matplotlib.pyplot as plt\n",
    "from scipy.special import psi\n",
    "import random\n",
    "from sklearn.model_selection import train_test_split\n"
   ]
  },
  {
   "cell_type": "code",
   "execution_count": 2,
   "id": "3f491509-bac2-473f-81f2-6e48726ceb88",
   "metadata": {},
   "outputs": [],
   "source": [
    "eps = torch.finfo(torch.float64).eps"
   ]
  },
  {
   "cell_type": "code",
   "execution_count": 38,
   "id": "39f90d00-9c1a-4684-aa40-d947b2477a83",
   "metadata": {},
   "outputs": [],
   "source": [
    "def criterion_dirichlet_multinomial(alpha, beta, target):\n",
    "    \"\"\"\n",
    "    alpha and beta are of shape (N, d)\n",
    "    target is of shape (N, d + 1)\n",
    "    \"\"\"\n",
    "    alpha_prime = alpha + target[:, :-1]\n",
    "    d = alpha.shape[1]\n",
    "    \n",
    "    # beta_prime = beta.clone().detach()\n",
    "    # for l in range(0, d):\n",
    "    #     beta_prime[:, l] += torch.sum(target[:, l+1:d+1], dim=1)\n",
    "        \n",
    "    beta_prime = torch.empty_like(beta)\n",
    "    # beta_prime = beta.detach().clone()\n",
    "    for l in range(0, d):\n",
    "        beta_prime[:, l] = beta[:, l]\n",
    "        beta_prime[:, l] += torch.sum(target[:, l+1:d+1], dim=1)\n",
    "    \n",
    "    # print(\"alpha\", alpha)\n",
    "    # print(\"beta\", beta)\n",
    "    # print(\"alpha + beta\", alpha + beta)\n",
    "    # print(\"target\", target)\n",
    "    # print(\"alpha_prime\", alpha_prime)\n",
    "    # print(\"beta_prime\", beta_prime)\n",
    "    \n",
    "    return   -(torch.lgamma(torch.sum(target, dim=1) + 1 + eps) - torch.sum(torch.lgamma(target + 1 + eps)) \\\n",
    "           + torch.sum(torch.lgamma(alpha + beta + eps), dim=1) - torch.sum(torch.lgamma(alpha_prime + beta_prime + eps), dim=1) \\\n",
    "           + torch.sum(torch.lgamma(alpha_prime + eps), dim=1) - torch.sum(torch.lgamma(alpha + eps), dim=1) \\\n",
    "           + torch.sum(torch.lgamma(beta_prime + eps), dim=1) - torch.sum(torch.lgamma(beta + eps), dim=1)).mean()"
   ]
  },
  {
   "cell_type": "code",
   "execution_count": 4,
   "id": "b4fa83d1-852d-4ece-82ae-6a422533e8d8",
   "metadata": {},
   "outputs": [],
   "source": [
    "torch.use_deterministic_algorithms(True)\n",
    "torch.manual_seed(0)\n",
    "random.seed(0)\n",
    "np.random.seed(0)"
   ]
  },
  {
   "cell_type": "code",
   "execution_count": 5,
   "id": "bf2a1016-ac0e-4bfe-baff-73fa553a6046",
   "metadata": {},
   "outputs": [],
   "source": [
    "num_dim = 100\n",
    "num_clusters = 10\n",
    "num_samples_per_cluster = 1000"
   ]
  },
  {
   "cell_type": "code",
   "execution_count": 6,
   "id": "343dd415-9c41-4bc7-8f05-4bfbeecdba3e",
   "metadata": {},
   "outputs": [],
   "source": [
    "alpha = (0.1, ) * num_dim"
   ]
  },
  {
   "cell_type": "code",
   "execution_count": 7,
   "id": "095205a9-d2b3-4902-8fc2-af4ca35302ac",
   "metadata": {},
   "outputs": [],
   "source": [
    "X = np.zeros((num_clusters * num_samples_per_cluster, num_dim))\n",
    "y = np.zeros((num_clusters * num_samples_per_cluster, ))"
   ]
  },
  {
   "cell_type": "code",
   "execution_count": 8,
   "id": "a00920ba-2f68-42e0-b654-b80761b41776",
   "metadata": {},
   "outputs": [],
   "source": [
    "for i in range(num_clusters):\n",
    "    n = math.floor(np.random.uniform(50, 100, 1))\n",
    "    p = np.random.dirichlet(alpha, 1)[0]\n",
    "    X[i * num_samples_per_cluster : (i + 1) * num_samples_per_cluster, :] = np.random.multinomial(n, p, size=num_samples_per_cluster)\n",
    "    y[i * num_samples_per_cluster : (i + 1) * num_samples_per_cluster] = i"
   ]
  },
  {
   "cell_type": "code",
   "execution_count": 9,
   "id": "f640b74e-4555-4db4-ab55-f21b8418518d",
   "metadata": {},
   "outputs": [],
   "source": [
    "X_tensor = torch.tensor(X, dtype=torch.float64)\n",
    "y_tensor = torch.tensor(y, dtype=torch.int32)"
   ]
  },
  {
   "cell_type": "code",
   "execution_count": 10,
   "id": "25a42342-8868-46e2-9b5a-9477051e313d",
   "metadata": {},
   "outputs": [
    {
     "name": "stdout",
     "output_type": "stream",
     "text": [
      "tensor([[1., 1., 0.,  ..., 0., 0., 0.],\n",
      "        [0., 0., 0.,  ..., 0., 0., 0.],\n",
      "        [0., 0., 1.,  ..., 0., 0., 0.],\n",
      "        ...,\n",
      "        [2., 0., 0.,  ..., 1., 0., 0.],\n",
      "        [4., 0., 0.,  ..., 0., 0., 0.],\n",
      "        [3., 0., 0.,  ..., 0., 0., 0.]], dtype=torch.float64)\n"
     ]
    }
   ],
   "source": [
    "print(X_tensor)"
   ]
  },
  {
   "cell_type": "code",
   "execution_count": 11,
   "id": "ea5b0749-594d-4210-820c-f0617e9339dd",
   "metadata": {},
   "outputs": [],
   "source": [
    "X_train, X_test, Y_train, Y_test = train_test_split(X_tensor, y_tensor, test_size=0.2, random_state=42)"
   ]
  },
  {
   "cell_type": "code",
   "execution_count": 12,
   "id": "beeece27-7317-495b-8de1-a99387e296e6",
   "metadata": {},
   "outputs": [],
   "source": [
    "dataset_train = torch.utils.data.TensorDataset(X_train, Y_train)\n",
    "dataset_test = torch.utils.data.TensorDataset(X_test, Y_test)\n",
    "train_loader = torch.utils.data.DataLoader(dataset_train, batch_size=32, shuffle=False)\n",
    "test_loader = torch.utils.data.DataLoader(dataset_test, batch_size=32, shuffle=True)"
   ]
  },
  {
   "cell_type": "code",
   "execution_count": 13,
   "id": "44a05698-f49e-4e85-ad3e-2045aff36211",
   "metadata": {},
   "outputs": [],
   "source": [
    "class IL(nn.Module):\n",
    "    def __init__(self):\n",
    "        super().__init__()\n",
    "    \n",
    "    def forward(self, x):\n",
    "        eps = 1e-6\n",
    "        return torch.where(x < 0, (1 / (1 - x)) + eps, x + 1 + eps)"
   ]
  },
  {
   "cell_type": "code",
   "execution_count": 14,
   "id": "c2bbf902-f04b-421f-91a2-b3af0a1bb5e6",
   "metadata": {},
   "outputs": [],
   "source": [
    "class EL(nn.Module):\n",
    "    def __init__(self):\n",
    "        super().__init__()\n",
    "        \n",
    "    def forward(self, x):\n",
    "        return torch.nn.functional.elu(x) + 1"
   ]
  },
  {
   "cell_type": "code",
   "execution_count": 36,
   "id": "667c3180-f4b6-4e1b-9eb7-cf771ffd8de3",
   "metadata": {},
   "outputs": [],
   "source": [
    "def plot_latent(autoencoder, data, label, figname):\n",
    "    encoded = model.encoder(data).detach().numpy()\n",
    "    plt.scatter(encoded[:, 0], encoded[:, 1], c=label.detach().numpy())\n",
    "    plt.colorbar()\n",
    "    plt.savefig(figname, format='eps')"
   ]
  },
  {
   "cell_type": "code",
   "execution_count": 16,
   "id": "8982e27b-cc73-4cb3-bfb8-74fce0c23e9e",
   "metadata": {},
   "outputs": [],
   "source": [
    "batch_size = 100\n",
    "n_epochs = 100"
   ]
  },
  {
   "cell_type": "code",
   "execution_count": 17,
   "id": "2b057c4f-9a78-4f6a-b903-181664931f59",
   "metadata": {},
   "outputs": [],
   "source": [
    "class AutoEncoderBaseline(nn.Module):\n",
    "    def __init__(self, num_input=100, num_bottleneck=2):\n",
    "        super(AutoEncoderBaseline, self).__init__()\n",
    "        self.encoder = nn.Sequential(\n",
    "            nn.Linear(num_input, 100, dtype=torch.float64),\n",
    "            nn.ReLU(True),\n",
    "            nn.Linear(100, 64, dtype=torch.float64),\n",
    "            nn.ReLU(True), nn.Linear(64, 12, dtype=torch.float64), nn.ReLU(True), nn.Linear(12, num_bottleneck, dtype=torch.float64))\n",
    "        self.decoder = nn.Sequential(\n",
    "            nn.Linear(num_bottleneck, 12, dtype=torch.float64),\n",
    "            nn.ReLU(True),\n",
    "            nn.Linear(12, 64, dtype=torch.float64),\n",
    "            nn.ReLU(True),\n",
    "            nn.Linear(64, 100, dtype=torch.float64),\n",
    "            nn.ReLU(True), nn.Linear(100, num_input, dtype=torch.float64))\n",
    "\n",
    "    def forward(self, x):\n",
    "        x = self.encoder(x)\n",
    "        x = self.decoder(x)\n",
    "        return x"
   ]
  },
  {
   "cell_type": "code",
   "execution_count": 18,
   "id": "dfd4920c-eab8-4a2d-be96-20fee1b11089",
   "metadata": {},
   "outputs": [],
   "source": [
    "model = AutoEncoderBaseline()\n",
    "criterion = nn.MSELoss()\n",
    "optimizer = torch.optim.Adam(model.parameters(), lr=0.0001)"
   ]
  },
  {
   "cell_type": "code",
   "execution_count": 19,
   "id": "6e8ea6fd-480e-4d80-a89d-6fec3c9d381d",
   "metadata": {},
   "outputs": [
    {
     "name": "stdout",
     "output_type": "stream",
     "text": [
      "AutoEncoderBaseline(\n",
      "  (encoder): Sequential(\n",
      "    (0): Linear(in_features=100, out_features=100, bias=True)\n",
      "    (1): ReLU(inplace=True)\n",
      "    (2): Linear(in_features=100, out_features=64, bias=True)\n",
      "    (3): ReLU(inplace=True)\n",
      "    (4): Linear(in_features=64, out_features=12, bias=True)\n",
      "    (5): ReLU(inplace=True)\n",
      "    (6): Linear(in_features=12, out_features=2, bias=True)\n",
      "  )\n",
      "  (decoder): Sequential(\n",
      "    (0): Linear(in_features=2, out_features=12, bias=True)\n",
      "    (1): ReLU(inplace=True)\n",
      "    (2): Linear(in_features=12, out_features=64, bias=True)\n",
      "    (3): ReLU(inplace=True)\n",
      "    (4): Linear(in_features=64, out_features=100, bias=True)\n",
      "    (5): ReLU(inplace=True)\n",
      "    (6): Linear(in_features=100, out_features=100, bias=True)\n",
      "  )\n",
      ")\n"
     ]
    }
   ],
   "source": [
    "print(model)"
   ]
  },
  {
   "cell_type": "code",
   "execution_count": 20,
   "id": "c074738b-c869-46ce-936f-396df0168779",
   "metadata": {},
   "outputs": [
    {
     "name": "stdout",
     "output_type": "stream",
     "text": [
      "Epoch 1: loss: 7.236833744161157\n",
      "Epoch 2: loss: 5.850073541173032\n",
      "Epoch 3: loss: 4.889087691001254\n",
      "Epoch 4: loss: 4.042824696592243\n",
      "Epoch 5: loss: 3.6149367461806943\n",
      "Epoch 6: loss: 3.2232162836093585\n",
      "Epoch 7: loss: 2.83503614468499\n",
      "Epoch 8: loss: 2.4133182884734907\n",
      "Epoch 9: loss: 2.1280788289121237\n",
      "Epoch 10: loss: 1.9248276715715316\n",
      "Epoch 11: loss: 1.7367494801807783\n",
      "Epoch 12: loss: 1.5388407835970788\n",
      "Epoch 13: loss: 1.3424327754094219\n",
      "Epoch 14: loss: 1.1650970461922787\n",
      "Epoch 15: loss: 1.0312033373599225\n",
      "Epoch 16: loss: 0.9367485125071139\n",
      "Epoch 17: loss: 0.8684451440355191\n",
      "Epoch 18: loss: 0.8211634561062237\n",
      "Epoch 19: loss: 0.7879807900644025\n",
      "Epoch 20: loss: 0.7643049557608558\n",
      "Epoch 21: loss: 0.7470961386628037\n",
      "Epoch 22: loss: 0.7339195804176848\n",
      "Epoch 23: loss: 0.7233683932159614\n",
      "Epoch 24: loss: 0.7143184128351802\n",
      "Epoch 25: loss: 0.7063983617656265\n",
      "Epoch 26: loss: 0.6990282563635247\n",
      "Epoch 27: loss: 0.6924605054571173\n",
      "Epoch 28: loss: 0.6856941993147013\n",
      "Epoch 29: loss: 0.6805072683229594\n",
      "Epoch 30: loss: 0.6758544298919442\n",
      "Epoch 31: loss: 0.6716484313278783\n",
      "Epoch 32: loss: 0.6674161629571539\n",
      "Epoch 33: loss: 0.6637452461628235\n",
      "Epoch 34: loss: 0.6602132083915528\n",
      "Epoch 35: loss: 0.6569440857737456\n",
      "Epoch 36: loss: 0.6540594923626099\n",
      "Epoch 37: loss: 0.6511871400621656\n",
      "Epoch 38: loss: 0.6484837939925251\n",
      "Epoch 39: loss: 0.6462564654422295\n",
      "Epoch 40: loss: 0.6441463292123004\n",
      "Epoch 41: loss: 0.6425167943881503\n",
      "Epoch 42: loss: 0.6409031283348788\n",
      "Epoch 43: loss: 0.6396440606192314\n",
      "Epoch 44: loss: 0.6384826831908116\n",
      "Epoch 45: loss: 0.6370562606361699\n",
      "Epoch 46: loss: 0.6358888932306814\n",
      "Epoch 47: loss: 0.634646964286355\n",
      "Epoch 48: loss: 0.6335519113729119\n",
      "Epoch 49: loss: 0.6323529729971451\n",
      "Epoch 50: loss: 0.6313973470073365\n",
      "Epoch 51: loss: 0.6305253548616553\n",
      "Epoch 52: loss: 0.6298182995676541\n",
      "Epoch 53: loss: 0.6285255977070109\n",
      "Epoch 54: loss: 0.6275206601747039\n",
      "Epoch 55: loss: 0.6267086334614271\n",
      "Epoch 56: loss: 0.6257355891657431\n",
      "Epoch 57: loss: 0.6252085195012852\n",
      "Epoch 58: loss: 0.6246965131713654\n",
      "Epoch 59: loss: 0.6244026088414594\n",
      "Epoch 60: loss: 0.6236925843984393\n",
      "Epoch 61: loss: 0.623104325978741\n",
      "Epoch 62: loss: 0.6226808979455742\n",
      "Epoch 63: loss: 0.622246774465595\n",
      "Epoch 64: loss: 0.6218000720929018\n",
      "Epoch 65: loss: 0.6213300857225885\n",
      "Epoch 66: loss: 0.6208052981211171\n",
      "Epoch 67: loss: 0.6200412233573968\n",
      "Epoch 68: loss: 0.6196891409713221\n",
      "Epoch 69: loss: 0.6192297730547045\n",
      "Epoch 70: loss: 0.6187800249581766\n",
      "Epoch 71: loss: 0.6179749775723866\n",
      "Epoch 72: loss: 0.6174707553515271\n",
      "Epoch 73: loss: 0.6170808024076974\n",
      "Epoch 74: loss: 0.6166406201344996\n",
      "Epoch 75: loss: 0.616420980744629\n",
      "Epoch 76: loss: 0.6160127922245644\n",
      "Epoch 77: loss: 0.615479258170601\n",
      "Epoch 78: loss: 0.6151541054548947\n",
      "Epoch 79: loss: 0.6143947438558273\n",
      "Epoch 80: loss: 0.613854572440112\n",
      "Epoch 81: loss: 0.6132108487921237\n",
      "Epoch 82: loss: 0.61241399428103\n",
      "Epoch 83: loss: 0.6118721974319573\n",
      "Epoch 84: loss: 0.6112488313181292\n",
      "Epoch 85: loss: 0.6107260046257302\n",
      "Epoch 86: loss: 0.6100750681243075\n",
      "Epoch 87: loss: 0.6091690095997346\n",
      "Epoch 88: loss: 0.608567802559033\n",
      "Epoch 89: loss: 0.607983712780295\n",
      "Epoch 90: loss: 0.6070516448831894\n",
      "Epoch 91: loss: 0.6062118846507203\n",
      "Epoch 92: loss: 0.6054418389220511\n",
      "Epoch 93: loss: 0.6046570499841866\n",
      "Epoch 94: loss: 0.6038900573921705\n",
      "Epoch 95: loss: 0.6031993357079759\n",
      "Epoch 96: loss: 0.6023743657035908\n",
      "Epoch 97: loss: 0.601601728203853\n",
      "Epoch 98: loss: 0.6006200093077746\n",
      "Epoch 99: loss: 0.5993556387981562\n",
      "Epoch 100: loss: 0.5983849136689443\n"
     ]
    }
   ],
   "source": [
    "for epoch in range(1, n_epochs + 1):\n",
    "    for i, (data, label) in enumerate(train_loader):\n",
    "        output = model(data)\n",
    "        loss = criterion(output, data)\n",
    "        if i == 0:\n",
    "            # print(output)\n",
    "            # print(X_batch)\n",
    "            print(f\"Epoch {epoch}: loss: {loss.item()}\")\n",
    "        \n",
    "        optimizer.zero_grad()\n",
    "        loss.backward()\n",
    "        optimizer.step()"
   ]
  },
  {
   "cell_type": "code",
   "execution_count": 21,
   "id": "8a01cf54-8e15-4c18-a373-06efdaf5a617",
   "metadata": {},
   "outputs": [
    {
     "data": {
      "image/png": "[encoded data removed]",
      "text/plain": [
       "<Figure size 432x288 with 2 Axes>"
      ]
     },
     "metadata": {
      "needs_background": "light"
     },
     "output_type": "display_data"
    }
   ],
   "source": [
    "plot_latent(model, X_train, Y_train)"
   ]
  },
  {
   "cell_type": "code",
   "execution_count": 37,
   "id": "4d225d9c-1c74-4d84-b054-428038c1e894",
   "metadata": {},
   "outputs": [
    {
     "data": {
      "image/png": "[encoded data removed]",
      "text/plain": [
       "<Figure size 432x288 with 2 Axes>"
      ]
     },
     "metadata": {
      "needs_background": "light"
     },
     "output_type": "display_data"
    }
   ],
   "source": [
    "plot_latent(model, X_test, Y_test, \"baseline.eps\")"
   ]
  },
  {
   "cell_type": "code",
   "execution_count": 23,
   "id": "24a19dc7-0ceb-4c1d-8802-1bbd0c3b5bb5",
   "metadata": {},
   "outputs": [],
   "source": [
    "class AutoEncoder(nn.Module):\n",
    "    def __init__(self, num_input=100, num_bottleneck=2):\n",
    "        super(AutoEncoder, self).__init__()\n",
    "        self.encoder = nn.Sequential(\n",
    "            nn.Linear(num_input, 64, dtype=torch.float64),\n",
    "            nn.Tanh(),\n",
    "            nn.Linear(64, 12, dtype=torch.float64),\n",
    "            nn.Tanh(),\n",
    "            nn.Linear(12, num_bottleneck, dtype=torch.float64)\n",
    "        )\n",
    "        \n",
    "        self.decoder = nn.Sequential(\n",
    "            nn.Linear(num_bottleneck, 12, dtype=torch.float64),\n",
    "            nn.Tanh(),\n",
    "            nn.Linear(12, 64, dtype=torch.float64),\n",
    "            nn.Tanh()\n",
    "        )\n",
    "        \n",
    "        self.GeneralizedDirichletMultinomialAlpha = nn.Sequential(\n",
    "        nn.Linear(64, num_input - 1, dtype=torch.float64),\n",
    "        EL()\n",
    "        )\n",
    "        \n",
    "        self.GeneralizedDirichletMultinomialBeta = nn.Sequential(\n",
    "        nn.Linear(64, num_input - 1, dtype=torch.float64),\n",
    "        EL()\n",
    "        )\n",
    "    \n",
    "    def forward(self, x):\n",
    "        encoded = self.encoder(x)\n",
    "        decoded = self.decoder(encoded)\n",
    "        alpha = self.GeneralizedDirichletMultinomialAlpha(decoded)\n",
    "        beta = self.GeneralizedDirichletMultinomialBeta(decoded)\n",
    "        return alpha, beta"
   ]
  },
  {
   "cell_type": "code",
   "execution_count": 32,
   "id": "8968a4d7-23a9-4d02-a794-d03b0eb76faf",
   "metadata": {},
   "outputs": [],
   "source": [
    "num_bottleneck = 2\n",
    "model = AutoEncoder(num_dim, num_bottleneck)\n",
    "optimizer = torch.optim.Adam(model.parameters(), lr=0.0001)"
   ]
  },
  {
   "cell_type": "code",
   "execution_count": 33,
   "id": "3f15c9bd-46ea-402f-81ee-ce8d7698e8e9",
   "metadata": {},
   "outputs": [
    {
     "name": "stdout",
     "output_type": "stream",
     "text": [
      "Epoch 1: loss: 3278.0119655817825\n",
      "Epoch 2: loss: 3103.8475534695367\n",
      "Epoch 3: loss: 3047.7740576262486\n",
      "Epoch 4: loss: 3038.916611812315\n",
      "Epoch 5: loss: 3036.813278654325\n",
      "Epoch 6: loss: 3036.018580771418\n",
      "Epoch 7: loss: 3035.5865890869973\n",
      "Epoch 8: loss: 3035.290976064722\n",
      "Epoch 9: loss: 3035.0625575656704\n",
      "Epoch 10: loss: 3034.8741943520836\n",
      "Epoch 11: loss: 3034.710405026411\n",
      "Epoch 12: loss: 3034.561091780265\n",
      "Epoch 13: loss: 3034.4134811424747\n",
      "Epoch 14: loss: 3034.2515405615104\n",
      "Epoch 15: loss: 3034.0693906636598\n",
      "Epoch 16: loss: 3033.8522771219177\n",
      "Epoch 17: loss: 3033.5008906690146\n",
      "Epoch 18: loss: 3033.1024472314025\n",
      "Epoch 19: loss: 3032.395244037215\n",
      "Epoch 20: loss: 3031.182835718174\n",
      "Epoch 21: loss: 3029.6504982078773\n",
      "Epoch 22: loss: 3028.4313165881017\n",
      "Epoch 23: loss: 3027.585328245325\n",
      "Epoch 24: loss: 3026.949511185583\n",
      "Epoch 25: loss: 3026.402435014278\n",
      "Epoch 26: loss: 3025.877159411463\n",
      "Epoch 27: loss: 3025.3388569021854\n",
      "Epoch 28: loss: 3024.785468241754\n",
      "Epoch 29: loss: 3024.218623985109\n",
      "Epoch 30: loss: 3023.6388262306987\n",
      "Epoch 31: loss: 3023.048853967699\n",
      "Epoch 32: loss: 3022.4513353175366\n",
      "Epoch 33: loss: 3021.853854624318\n",
      "Epoch 34: loss: 3021.263206402816\n",
      "Epoch 35: loss: 3020.681197911644\n",
      "Epoch 36: loss: 3020.1095928184077\n",
      "Epoch 37: loss: 3019.550981976622\n",
      "Epoch 38: loss: 3019.0026848654825\n",
      "Epoch 39: loss: 3018.4614586576818\n",
      "Epoch 40: loss: 3017.925355306641\n",
      "Epoch 41: loss: 3017.3871704252615\n",
      "Epoch 42: loss: 3016.8393682304627\n",
      "Epoch 43: loss: 3016.2738174626375\n",
      "Epoch 44: loss: 3015.6885519789003\n",
      "Epoch 45: loss: 3015.084000947214\n",
      "Epoch 46: loss: 3014.4617146303362\n",
      "Epoch 47: loss: 3013.8252564793574\n",
      "Epoch 48: loss: 3013.1807754027336\n",
      "Epoch 49: loss: 3012.531046682006\n",
      "Epoch 50: loss: 3011.8757839290347\n",
      "Epoch 51: loss: 3011.211578124862\n",
      "Epoch 52: loss: 3010.5387903565265\n",
      "Epoch 53: loss: 3009.865543452243\n",
      "Epoch 54: loss: 3009.2071313254264\n",
      "Epoch 55: loss: 3008.5813749926047\n",
      "Epoch 56: loss: 3007.9938055218404\n",
      "Epoch 57: loss: 3007.4413256825815\n",
      "Epoch 58: loss: 3006.920719990241\n",
      "Epoch 59: loss: 3006.42888118664\n",
      "Epoch 60: loss: 3005.9608632341387\n",
      "Epoch 61: loss: 3005.512083706836\n",
      "Epoch 62: loss: 3005.082431561865\n",
      "Epoch 63: loss: 3004.6691658227987\n",
      "Epoch 64: loss: 3004.269537748825\n",
      "Epoch 65: loss: 3003.882414881606\n",
      "Epoch 66: loss: 3003.507526931714\n",
      "Epoch 67: loss: 3003.146825715019\n",
      "Epoch 68: loss: 3002.8004392510593\n",
      "Epoch 69: loss: 3002.467560950058\n",
      "Epoch 70: loss: 3002.1484628232583\n",
      "Epoch 71: loss: 3001.843353306589\n",
      "Epoch 72: loss: 3001.5517776553447\n",
      "Epoch 73: loss: 3001.2733612489205\n",
      "Epoch 74: loss: 3001.007250788831\n",
      "Epoch 75: loss: 3000.7529457655855\n",
      "Epoch 76: loss: 3000.510887604817\n",
      "Epoch 77: loss: 3000.280320824051\n",
      "Epoch 78: loss: 3000.060366227873\n",
      "Epoch 79: loss: 2999.8503180442917\n",
      "Epoch 80: loss: 2999.6498914959584\n",
      "Epoch 81: loss: 2999.459363415429\n",
      "Epoch 82: loss: 2999.277923653469\n",
      "Epoch 83: loss: 2999.1054738762723\n",
      "Epoch 84: loss: 2998.9417485676363\n",
      "Epoch 85: loss: 2998.7858454595153\n",
      "Epoch 86: loss: 2998.636981421941\n",
      "Epoch 87: loss: 2998.49464658674\n",
      "Epoch 88: loss: 2998.3587188677843\n",
      "Epoch 89: loss: 2998.228583111227\n",
      "Epoch 90: loss: 2998.1038957267338\n",
      "Epoch 91: loss: 2997.984368737077\n",
      "Epoch 92: loss: 2997.8699827802175\n",
      "Epoch 93: loss: 2997.7603276727486\n",
      "Epoch 94: loss: 2997.655386664782\n",
      "Epoch 95: loss: 2997.5543240861507\n",
      "Epoch 96: loss: 2997.4573759066184\n",
      "Epoch 97: loss: 2997.364118640079\n",
      "Epoch 98: loss: 2997.2742693968794\n",
      "Epoch 99: loss: 2997.1876816442523\n",
      "Epoch 100: loss: 2997.1049578178317\n"
     ]
    }
   ],
   "source": [
    "for epoch in range(1, n_epochs + 1):\n",
    "    for i, (data, label) in enumerate(train_loader):        \n",
    "        alpha, beta = model(data)\n",
    "        loss = criterion_dirichlet_multinomial(alpha, beta, data)\n",
    "        if i == 0:\n",
    "            print(f\"Epoch {epoch}: loss: {loss.item()}\")\n",
    "        \n",
    "        optimizer.zero_grad()\n",
    "        loss.backward()\n",
    "        optimizer.step()"
   ]
  },
  {
   "cell_type": "code",
   "execution_count": 34,
   "id": "6afe2b25-74ac-4a1c-befb-214b08264da4",
   "metadata": {},
   "outputs": [
    {
     "data": {
      "image/png": "[encoded data removed]",
      "text/plain": [
       "<Figure size 432x288 with 2 Axes>"
      ]
     },
     "metadata": {
      "needs_background": "light"
     },
     "output_type": "display_data"
    }
   ],
   "source": [
    "plot_latent(model, X_train, Y_train)"
   ]
  },
  {
   "cell_type": "code",
   "execution_count": 35,
   "id": "19a99d11-9e77-485f-a1f1-bf561f6c53ca",
   "metadata": {},
   "outputs": [
    {
     "data": {
      "image/png": "[encoded data removed]",
      "text/plain": [
       "<Figure size 432x288 with 2 Axes>"
      ]
     },
     "metadata": {
      "needs_background": "light"
     },
     "output_type": "display_data"
    }
   ],
   "source": [
    "plot_latent(model, X_test, Y_test)"
   ]
  }
 ],
 "metadata": {
  "kernelspec": {
   "display_name": "Python 3 (ipykernel)",
   "language": "python",
   "name": "python3"
  },
  "language_info": {
   "codemirror_mode": {
    "name": "ipython",
    "version": 3
   },
   "file_extension": ".py",
   "mimetype": "text/x-python",
   "name": "python",
   "nbconvert_exporter": "python",
   "pygments_lexer": "ipython3",
   "version": "3.9.13"
  }
 },
 "nbformat": 4,
 "nbformat_minor": 5
}
